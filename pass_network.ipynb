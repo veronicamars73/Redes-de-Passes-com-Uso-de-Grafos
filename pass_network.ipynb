{
  "nbformat": 4,
  "nbformat_minor": 0,
  "metadata": {
    "colab": {
      "name": "pass network.ipynb",
      "provenance": [],
      "collapsed_sections": []
    },
    "kernelspec": {
      "name": "python3",
      "display_name": "Python 3"
    },
    "language_info": {
      "name": "python"
    }
  },
  "cells": [
    {
      "cell_type": "markdown",
      "source": [
        "# Análise de caminho mais curto em redes de passes"
      ],
      "metadata": {
        "id": "zytyg9KS4SP8"
      }
    },
    {
      "cell_type": "markdown",
      "source": [
        "#### Especificações de Hardware"
      ],
      "metadata": {
        "id": "s05IqMOcx049"
      }
    },
    {
      "cell_type": "code",
      "source": [
        "!lscpu"
      ],
      "metadata": {
        "colab": {
          "base_uri": "https://localhost:8080/"
        },
        "id": "0DNiCOWIvvJs",
        "outputId": "7ea77e65-6f2d-4ad1-b251-9feaa31b42de"
      },
      "execution_count": null,
      "outputs": [
        {
          "output_type": "stream",
          "name": "stdout",
          "text": [
            "Architecture:        x86_64\n",
            "CPU op-mode(s):      32-bit, 64-bit\n",
            "Byte Order:          Little Endian\n",
            "CPU(s):              2\n",
            "On-line CPU(s) list: 0,1\n",
            "Thread(s) per core:  2\n",
            "Core(s) per socket:  1\n",
            "Socket(s):           1\n",
            "NUMA node(s):        1\n",
            "Vendor ID:           GenuineIntel\n",
            "CPU family:          6\n",
            "Model:               79\n",
            "Model name:          Intel(R) Xeon(R) CPU @ 2.20GHz\n",
            "Stepping:            0\n",
            "CPU MHz:             2199.998\n",
            "BogoMIPS:            4399.99\n",
            "Hypervisor vendor:   KVM\n",
            "Virtualization type: full\n",
            "L1d cache:           32K\n",
            "L1i cache:           32K\n",
            "L2 cache:            256K\n",
            "L3 cache:            56320K\n",
            "NUMA node0 CPU(s):   0,1\n",
            "Flags:               fpu vme de pse tsc msr pae mce cx8 apic sep mtrr pge mca cmov pat pse36 clflush mmx fxsr sse sse2 ss ht syscall nx pdpe1gb rdtscp lm constant_tsc rep_good nopl xtopology nonstop_tsc cpuid tsc_known_freq pni pclmulqdq ssse3 fma cx16 pcid sse4_1 sse4_2 x2apic movbe popcnt aes xsave avx f16c rdrand hypervisor lahf_lm abm 3dnowprefetch invpcid_single ssbd ibrs ibpb stibp fsgsbase tsc_adjust bmi1 hle avx2 smep bmi2 erms invpcid rtm rdseed adx smap xsaveopt arat md_clear arch_capabilities\n"
          ]
        }
      ]
    },
    {
      "cell_type": "code",
      "source": [
        "!grep MemTotal /proc/meminfo"
      ],
      "metadata": {
        "colab": {
          "base_uri": "https://localhost:8080/"
        },
        "id": "vQiND_aCwOtY",
        "outputId": "986d5df5-e13c-43e2-ad86-eca6d1c03804"
      },
      "execution_count": null,
      "outputs": [
        {
          "output_type": "stream",
          "name": "stdout",
          "text": [
            "MemTotal:       13298580 kB\n"
          ]
        }
      ]
    },
    {
      "cell_type": "code",
      "source": [
        "!df -H"
      ],
      "metadata": {
        "colab": {
          "base_uri": "https://localhost:8080/"
        },
        "id": "0sDxX2fKwmWn",
        "outputId": "5e1acbab-af12-4f04-9be0-ae288acf4c81"
      },
      "execution_count": null,
      "outputs": [
        {
          "output_type": "stream",
          "name": "stdout",
          "text": [
            "Filesystem      Size  Used Avail Use% Mounted on\n",
            "overlay         116G   42G   75G  36% /\n",
            "tmpfs            68M     0   68M   0% /dev\n",
            "shm             6.2G     0  6.2G   0% /dev/shm\n",
            "/dev/root       2.1G  1.3G  851M  59% /sbin/docker-init\n",
            "tmpfs           6.9G   33k  6.9G   1% /var/colab\n",
            "/dev/sda1        87G   46G   42G  53% /etc/hosts\n",
            "tmpfs           6.9G     0  6.9G   0% /proc/acpi\n",
            "tmpfs           6.9G     0  6.9G   0% /proc/scsi\n",
            "tmpfs           6.9G     0  6.9G   0% /sys/firmware\n"
          ]
        }
      ]
    },
    {
      "cell_type": "code",
      "source": [
        "!uname -a"
      ],
      "metadata": {
        "colab": {
          "base_uri": "https://localhost:8080/"
        },
        "id": "zOoqkDL2zAid",
        "outputId": "c306f881-3fd8-498a-c3a4-c1c800ca6f63"
      },
      "execution_count": null,
      "outputs": [
        {
          "output_type": "stream",
          "name": "stdout",
          "text": [
            "Linux c9c04c6a3bf3 5.4.188+ #1 SMP Sun Apr 24 10:03:06 PDT 2022 x86_64 x86_64 x86_64 GNU/Linux\n"
          ]
        }
      ]
    },
    {
      "cell_type": "markdown",
      "source": [
        "## Preparação de Dados"
      ],
      "metadata": {
        "id": "HmAxeaym4oCT"
      }
    },
    {
      "cell_type": "markdown",
      "source": [
        "### Importando Biblotecas"
      ],
      "metadata": {
        "id": "yze2r6C349OB"
      }
    },
    {
      "cell_type": "code",
      "source": [
        "import pandas as pd #Usada para manipulação dos dados\n",
        "import json #Usada para manipulação de dados json\n",
        "import networkx as nx #Usada nos plots dos grafos\n",
        "import matplotlib.pyplot as plt #Usada em plots\n",
        "import seaborn as sns #Usada no plot das matrizes de adjacência\n",
        "!pip install wget\n",
        "import wget #Usada para o download do arquivo de testes\n",
        "import os #Usada na checagem se existem arquivos de teste já baixados no ambiente e na remoção do arquivo caso exista\n",
        "import time as time_lib #Usada para medir o tempo de execução do programa"
      ],
      "metadata": {
        "id": "wjTtgic3tWWD",
        "colab": {
          "base_uri": "https://localhost:8080/"
        },
        "outputId": "380db624-313b-4e9b-b42d-c45a0abb8588"
      },
      "execution_count": null,
      "outputs": [
        {
          "output_type": "stream",
          "name": "stdout",
          "text": [
            "Looking in indexes: https://pypi.org/simple, https://us-python.pkg.dev/colab-wheels/public/simple/\n",
            "Requirement already satisfied: wget in /usr/local/lib/python3.7/dist-packages (3.2)\n"
          ]
        }
      ]
    },
    {
      "cell_type": "markdown",
      "source": [
        "### Download de Dados"
      ],
      "metadata": {
        "id": "59a_FkU_4sqp"
      }
    },
    {
      "cell_type": "markdown",
      "source": [
        "Abaixo o download do arquivo com dados de eventos da partida.\n",
        "\n",
        "Para mudar o arquivo de testes, por favor, realize os seguintes passos: \n",
        "- Visite o [repositório de dados abertos do StatsBomb;](https://github.com/statsbomb/open-data)\n",
        "\n",
        "- Dirija-se ao [diretório `data/events`](https://github.com/statsbomb/open-data/tree/master/data/events);\n",
        "\n",
        "- Clique em um dos arquivos presentes no repositório;\n",
        "\n",
        "- Clique em `View Raw` presente na área apresentada na imagem abaixo;\n",
        "\n",
        "![Clique em view raw](https://docs.google.com/uc?export=download&id=1tzTgx3lvPEtzJYdirTcCHVgaJS3Iup7K)\n",
        "\n",
        "- Copie a url da página que foi carregada após o clique - url destacada na imagem abaixo;\n",
        "![URL do arquivo de teste](https://docs.google.com/uc?export=download&id=1G5sg8rmnmDQ0-A7gJx7-nbC9bnQdDzlH)\n",
        "\n",
        "- E cole na caixa de texto que solicita a url do arquivo de teste."
      ],
      "metadata": {
        "id": "GtdjlHHMqzAv"
      }
    },
    {
      "cell_type": "code",
      "source": [
        "url = input(\"Digite a url do arquivo de teste que deseja utilizar ou deixe em branco para o arquivo padrão: \")\n",
        "if url==\"\":\n",
        "  url = 'https://raw.githubusercontent.com/statsbomb/open-data/master/data/events/15946.json'\n",
        "\n",
        "if os.path.isfile('teste.json'):\n",
        "    os.remove('teste.json')\n",
        "wget.download(url, 'teste.json')"
      ],
      "metadata": {
        "colab": {
          "base_uri": "https://localhost:8080/",
          "height": 54
        },
        "id": "WqGfyHyuxmai",
        "outputId": "968b2e21-4c60-4d8d-f402-1191e0274689"
      },
      "execution_count": null,
      "outputs": [
        {
          "name": "stdout",
          "output_type": "stream",
          "text": [
            "Digite a url do arquivo de teste que deseja utilizar ou deixe em branco para o arquivo padrão: \n"
          ]
        },
        {
          "output_type": "execute_result",
          "data": {
            "text/plain": [
              "'teste.json'"
            ],
            "application/vnd.google.colaboratory.intrinsic+json": {
              "type": "string"
            }
          },
          "metadata": {},
          "execution_count": 6
        }
      ]
    },
    {
      "cell_type": "markdown",
      "source": [
        "Abaixo o download da imagem do campo de futebol usada nos plots do programa"
      ],
      "metadata": {
        "id": "gkfJAOYLq4y3"
      }
    },
    {
      "cell_type": "code",
      "source": [
        "!wget --no-check-certificate 'https://docs.google.com/uc?export=download&id=1WhjVhgNgjN6TZRkjnlgOZN_7QIoyMJkf' -O \"image_pitch.png\""
      ],
      "metadata": {
        "colab": {
          "base_uri": "https://localhost:8080/"
        },
        "id": "GXOGYg9Ipq3j",
        "outputId": "605030d4-a376-4f11-ce10-99e0e7930f14"
      },
      "execution_count": null,
      "outputs": [
        {
          "output_type": "stream",
          "name": "stdout",
          "text": [
            "--2022-07-15 12:52:19--  https://docs.google.com/uc?export=download&id=1WhjVhgNgjN6TZRkjnlgOZN_7QIoyMJkf\n",
            "Resolving docs.google.com (docs.google.com)... 108.177.125.138, 108.177.125.139, 108.177.125.102, ...\n",
            "Connecting to docs.google.com (docs.google.com)|108.177.125.138|:443... connected.\n",
            "HTTP request sent, awaiting response... 303 See Other\n",
            "Location: https://doc-04-18-docs.googleusercontent.com/docs/securesc/ha0ro937gcuc7l7deffksulhg5h7mbp1/ef7812r9p9tnt8ivnps6uhqlvsvrshof/1657889475000/04943223576839391483/*/1WhjVhgNgjN6TZRkjnlgOZN_7QIoyMJkf?e=download&uuid=4ad5be8e-51be-42cc-80ab-bddd148346ba [following]\n",
            "Warning: wildcards not supported in HTTP.\n",
            "--2022-07-15 12:52:21--  https://doc-04-18-docs.googleusercontent.com/docs/securesc/ha0ro937gcuc7l7deffksulhg5h7mbp1/ef7812r9p9tnt8ivnps6uhqlvsvrshof/1657889475000/04943223576839391483/*/1WhjVhgNgjN6TZRkjnlgOZN_7QIoyMJkf?e=download&uuid=4ad5be8e-51be-42cc-80ab-bddd148346ba\n",
            "Resolving doc-04-18-docs.googleusercontent.com (doc-04-18-docs.googleusercontent.com)... 142.250.157.132, 2404:6800:4008:c13::84\n",
            "Connecting to doc-04-18-docs.googleusercontent.com (doc-04-18-docs.googleusercontent.com)|142.250.157.132|:443... connected.\n",
            "HTTP request sent, awaiting response... 200 OK\n",
            "Length: 16101 (16K) [image/png]\n",
            "Saving to: ‘image_pitch.png’\n",
            "\n",
            "image_pitch.png     100%[===================>]  15.72K  --.-KB/s    in 0s      \n",
            "\n",
            "2022-07-15 12:52:22 (70.4 MB/s) - ‘image_pitch.png’ saved [16101/16101]\n",
            "\n"
          ]
        }
      ]
    },
    {
      "cell_type": "markdown",
      "source": [
        "### Leitura do json e transformação em Dataframe"
      ],
      "metadata": {
        "id": "8L87xPla5Cmf"
      }
    },
    {
      "cell_type": "markdown",
      "source": [
        "#### Informações sobre passes"
      ],
      "metadata": {
        "id": "wqCwIuO25MZV"
      }
    },
    {
      "cell_type": "code",
      "source": [
        "with open('teste.json','r') as g:\n",
        "    data = json.load(g)"
      ],
      "metadata": {
        "id": "piEmW2I-NoqI"
      },
      "execution_count": null,
      "outputs": []
    },
    {
      "cell_type": "code",
      "source": [
        "df_nested = pd.json_normalize(data, max_level=2)"
      ],
      "metadata": {
        "id": "523o4ZTtNBYo"
      },
      "execution_count": null,
      "outputs": []
    },
    {
      "cell_type": "code",
      "source": [
        "df_nested.columns"
      ],
      "metadata": {
        "colab": {
          "base_uri": "https://localhost:8080/"
        },
        "id": "h2FE3_D9-Nca",
        "outputId": "cbd8a9ad-9aa2-4bed-c3ab-10be07be676b"
      },
      "execution_count": null,
      "outputs": [
        {
          "output_type": "execute_result",
          "data": {
            "text/plain": [
              "Index(['id', 'index', 'period', 'timestamp', 'minute', 'second', 'possession',\n",
              "       'duration', 'type.id', 'type.name',\n",
              "       ...\n",
              "       'substitution.outcome.name', 'substitution.replacement.id',\n",
              "       'substitution.replacement.name', 'pass.cut_back', 'shot.one_on_one',\n",
              "       'foul_committed.advantage', 'foul_won.advantage',\n",
              "       'foul_committed.type.id', 'foul_committed.type.name',\n",
              "       'pass.goal_assist'],\n",
              "      dtype='object', length=105)"
            ]
          },
          "metadata": {},
          "execution_count": 10
        }
      ]
    },
    {
      "cell_type": "code",
      "source": [
        "df_nested"
      ],
      "metadata": {
        "colab": {
          "base_uri": "https://localhost:8080/",
          "height": 1000
        },
        "id": "hZAiKnSNM52a",
        "outputId": "0cb1232c-af5f-44c5-ad03-08a4ed413562"
      },
      "execution_count": null,
      "outputs": [
        {
          "output_type": "execute_result",
          "data": {
            "text/plain": [
              "                                        id  index  period     timestamp  \\\n",
              "0     ce508a95-38d3-4248-a50e-dc8d7e23230c      1       1  00:00:00.000   \n",
              "1     39abd1c2-2575-41be-ae79-3e936eead529      2       1  00:00:00.000   \n",
              "2     1148e967-380f-421f-97f0-d0c820c72984      3       1  00:00:00.000   \n",
              "3     7cf6876d-7c50-4d64-b999-e2a039641c81      4       1  00:00:00.000   \n",
              "4     34208ade-2af4-45c3-970e-655937cad938      5       1  00:00:00.098   \n",
              "...                                    ...    ...     ...           ...   \n",
              "3997  be8a2725-6a34-45d5-8a49-5c9e0208e805   3998       2  00:46:41.244   \n",
              "3998  55d71847-9511-4417-aea9-6f415e279011   3999       2  00:46:42.770   \n",
              "3999  f93a1612-e2de-4efe-b202-6c4a178eebad   4000       2  00:46:43.268   \n",
              "4000  e1cc4d5e-ba55-4b6b-88cc-dae13311c1d9   4001       2  00:47:32.053   \n",
              "4001  cd767526-5f64-4600-acbf-e0a2608f0d00   4002       2  00:47:32.053   \n",
              "\n",
              "      minute  second  possession  duration  type.id    type.name  ...  \\\n",
              "0          0       0           1  0.000000       35  Starting XI  ...   \n",
              "1          0       0           1  0.000000       35  Starting XI  ...   \n",
              "2          0       0           1  0.000000       18   Half Start  ...   \n",
              "3          0       0           1  0.000000       18   Half Start  ...   \n",
              "4          0       0           2  1.909000       30         Pass  ...   \n",
              "...      ...     ...         ...       ...      ...          ...  ...   \n",
              "3997      91      41         144  0.525000       17     Pressure  ...   \n",
              "3998      91      42         144  0.497348       16         Shot  ...   \n",
              "3999      91      43         144  0.000000       23  Goal Keeper  ...   \n",
              "4000      92      32         144  0.000000       34     Half End  ...   \n",
              "4001      92      32         144  0.000000       34     Half End  ...   \n",
              "\n",
              "      substitution.outcome.name substitution.replacement.id  \\\n",
              "0                           NaN                         NaN   \n",
              "1                           NaN                         NaN   \n",
              "2                           NaN                         NaN   \n",
              "3                           NaN                         NaN   \n",
              "4                           NaN                         NaN   \n",
              "...                         ...                         ...   \n",
              "3997                        NaN                         NaN   \n",
              "3998                        NaN                         NaN   \n",
              "3999                        NaN                         NaN   \n",
              "4000                        NaN                         NaN   \n",
              "4001                        NaN                         NaN   \n",
              "\n",
              "      substitution.replacement.name pass.cut_back  shot.one_on_one  \\\n",
              "0                               NaN           NaN              NaN   \n",
              "1                               NaN           NaN              NaN   \n",
              "2                               NaN           NaN              NaN   \n",
              "3                               NaN           NaN              NaN   \n",
              "4                               NaN           NaN              NaN   \n",
              "...                             ...           ...              ...   \n",
              "3997                            NaN           NaN              NaN   \n",
              "3998                            NaN           NaN              NaN   \n",
              "3999                            NaN           NaN              NaN   \n",
              "4000                            NaN           NaN              NaN   \n",
              "4001                            NaN           NaN              NaN   \n",
              "\n",
              "     foul_committed.advantage  foul_won.advantage foul_committed.type.id  \\\n",
              "0                         NaN                 NaN                    NaN   \n",
              "1                         NaN                 NaN                    NaN   \n",
              "2                         NaN                 NaN                    NaN   \n",
              "3                         NaN                 NaN                    NaN   \n",
              "4                         NaN                 NaN                    NaN   \n",
              "...                       ...                 ...                    ...   \n",
              "3997                      NaN                 NaN                    NaN   \n",
              "3998                      NaN                 NaN                    NaN   \n",
              "3999                      NaN                 NaN                    NaN   \n",
              "4000                      NaN                 NaN                    NaN   \n",
              "4001                      NaN                 NaN                    NaN   \n",
              "\n",
              "     foul_committed.type.name pass.goal_assist  \n",
              "0                         NaN              NaN  \n",
              "1                         NaN              NaN  \n",
              "2                         NaN              NaN  \n",
              "3                         NaN              NaN  \n",
              "4                         NaN              NaN  \n",
              "...                       ...              ...  \n",
              "3997                      NaN              NaN  \n",
              "3998                      NaN              NaN  \n",
              "3999                      NaN              NaN  \n",
              "4000                      NaN              NaN  \n",
              "4001                      NaN              NaN  \n",
              "\n",
              "[4002 rows x 105 columns]"
            ],
            "text/html": [
              "\n",
              "  <div id=\"df-5f3811dd-5fb3-4a4b-bec7-a0f9eb8d9393\">\n",
              "    <div class=\"colab-df-container\">\n",
              "      <div>\n",
              "<style scoped>\n",
              "    .dataframe tbody tr th:only-of-type {\n",
              "        vertical-align: middle;\n",
              "    }\n",
              "\n",
              "    .dataframe tbody tr th {\n",
              "        vertical-align: top;\n",
              "    }\n",
              "\n",
              "    .dataframe thead th {\n",
              "        text-align: right;\n",
              "    }\n",
              "</style>\n",
              "<table border=\"1\" class=\"dataframe\">\n",
              "  <thead>\n",
              "    <tr style=\"text-align: right;\">\n",
              "      <th></th>\n",
              "      <th>id</th>\n",
              "      <th>index</th>\n",
              "      <th>period</th>\n",
              "      <th>timestamp</th>\n",
              "      <th>minute</th>\n",
              "      <th>second</th>\n",
              "      <th>possession</th>\n",
              "      <th>duration</th>\n",
              "      <th>type.id</th>\n",
              "      <th>type.name</th>\n",
              "      <th>...</th>\n",
              "      <th>substitution.outcome.name</th>\n",
              "      <th>substitution.replacement.id</th>\n",
              "      <th>substitution.replacement.name</th>\n",
              "      <th>pass.cut_back</th>\n",
              "      <th>shot.one_on_one</th>\n",
              "      <th>foul_committed.advantage</th>\n",
              "      <th>foul_won.advantage</th>\n",
              "      <th>foul_committed.type.id</th>\n",
              "      <th>foul_committed.type.name</th>\n",
              "      <th>pass.goal_assist</th>\n",
              "    </tr>\n",
              "  </thead>\n",
              "  <tbody>\n",
              "    <tr>\n",
              "      <th>0</th>\n",
              "      <td>ce508a95-38d3-4248-a50e-dc8d7e23230c</td>\n",
              "      <td>1</td>\n",
              "      <td>1</td>\n",
              "      <td>00:00:00.000</td>\n",
              "      <td>0</td>\n",
              "      <td>0</td>\n",
              "      <td>1</td>\n",
              "      <td>0.000000</td>\n",
              "      <td>35</td>\n",
              "      <td>Starting XI</td>\n",
              "      <td>...</td>\n",
              "      <td>NaN</td>\n",
              "      <td>NaN</td>\n",
              "      <td>NaN</td>\n",
              "      <td>NaN</td>\n",
              "      <td>NaN</td>\n",
              "      <td>NaN</td>\n",
              "      <td>NaN</td>\n",
              "      <td>NaN</td>\n",
              "      <td>NaN</td>\n",
              "      <td>NaN</td>\n",
              "    </tr>\n",
              "    <tr>\n",
              "      <th>1</th>\n",
              "      <td>39abd1c2-2575-41be-ae79-3e936eead529</td>\n",
              "      <td>2</td>\n",
              "      <td>1</td>\n",
              "      <td>00:00:00.000</td>\n",
              "      <td>0</td>\n",
              "      <td>0</td>\n",
              "      <td>1</td>\n",
              "      <td>0.000000</td>\n",
              "      <td>35</td>\n",
              "      <td>Starting XI</td>\n",
              "      <td>...</td>\n",
              "      <td>NaN</td>\n",
              "      <td>NaN</td>\n",
              "      <td>NaN</td>\n",
              "      <td>NaN</td>\n",
              "      <td>NaN</td>\n",
              "      <td>NaN</td>\n",
              "      <td>NaN</td>\n",
              "      <td>NaN</td>\n",
              "      <td>NaN</td>\n",
              "      <td>NaN</td>\n",
              "    </tr>\n",
              "    <tr>\n",
              "      <th>2</th>\n",
              "      <td>1148e967-380f-421f-97f0-d0c820c72984</td>\n",
              "      <td>3</td>\n",
              "      <td>1</td>\n",
              "      <td>00:00:00.000</td>\n",
              "      <td>0</td>\n",
              "      <td>0</td>\n",
              "      <td>1</td>\n",
              "      <td>0.000000</td>\n",
              "      <td>18</td>\n",
              "      <td>Half Start</td>\n",
              "      <td>...</td>\n",
              "      <td>NaN</td>\n",
              "      <td>NaN</td>\n",
              "      <td>NaN</td>\n",
              "      <td>NaN</td>\n",
              "      <td>NaN</td>\n",
              "      <td>NaN</td>\n",
              "      <td>NaN</td>\n",
              "      <td>NaN</td>\n",
              "      <td>NaN</td>\n",
              "      <td>NaN</td>\n",
              "    </tr>\n",
              "    <tr>\n",
              "      <th>3</th>\n",
              "      <td>7cf6876d-7c50-4d64-b999-e2a039641c81</td>\n",
              "      <td>4</td>\n",
              "      <td>1</td>\n",
              "      <td>00:00:00.000</td>\n",
              "      <td>0</td>\n",
              "      <td>0</td>\n",
              "      <td>1</td>\n",
              "      <td>0.000000</td>\n",
              "      <td>18</td>\n",
              "      <td>Half Start</td>\n",
              "      <td>...</td>\n",
              "      <td>NaN</td>\n",
              "      <td>NaN</td>\n",
              "      <td>NaN</td>\n",
              "      <td>NaN</td>\n",
              "      <td>NaN</td>\n",
              "      <td>NaN</td>\n",
              "      <td>NaN</td>\n",
              "      <td>NaN</td>\n",
              "      <td>NaN</td>\n",
              "      <td>NaN</td>\n",
              "    </tr>\n",
              "    <tr>\n",
              "      <th>4</th>\n",
              "      <td>34208ade-2af4-45c3-970e-655937cad938</td>\n",
              "      <td>5</td>\n",
              "      <td>1</td>\n",
              "      <td>00:00:00.098</td>\n",
              "      <td>0</td>\n",
              "      <td>0</td>\n",
              "      <td>2</td>\n",
              "      <td>1.909000</td>\n",
              "      <td>30</td>\n",
              "      <td>Pass</td>\n",
              "      <td>...</td>\n",
              "      <td>NaN</td>\n",
              "      <td>NaN</td>\n",
              "      <td>NaN</td>\n",
              "      <td>NaN</td>\n",
              "      <td>NaN</td>\n",
              "      <td>NaN</td>\n",
              "      <td>NaN</td>\n",
              "      <td>NaN</td>\n",
              "      <td>NaN</td>\n",
              "      <td>NaN</td>\n",
              "    </tr>\n",
              "    <tr>\n",
              "      <th>...</th>\n",
              "      <td>...</td>\n",
              "      <td>...</td>\n",
              "      <td>...</td>\n",
              "      <td>...</td>\n",
              "      <td>...</td>\n",
              "      <td>...</td>\n",
              "      <td>...</td>\n",
              "      <td>...</td>\n",
              "      <td>...</td>\n",
              "      <td>...</td>\n",
              "      <td>...</td>\n",
              "      <td>...</td>\n",
              "      <td>...</td>\n",
              "      <td>...</td>\n",
              "      <td>...</td>\n",
              "      <td>...</td>\n",
              "      <td>...</td>\n",
              "      <td>...</td>\n",
              "      <td>...</td>\n",
              "      <td>...</td>\n",
              "      <td>...</td>\n",
              "    </tr>\n",
              "    <tr>\n",
              "      <th>3997</th>\n",
              "      <td>be8a2725-6a34-45d5-8a49-5c9e0208e805</td>\n",
              "      <td>3998</td>\n",
              "      <td>2</td>\n",
              "      <td>00:46:41.244</td>\n",
              "      <td>91</td>\n",
              "      <td>41</td>\n",
              "      <td>144</td>\n",
              "      <td>0.525000</td>\n",
              "      <td>17</td>\n",
              "      <td>Pressure</td>\n",
              "      <td>...</td>\n",
              "      <td>NaN</td>\n",
              "      <td>NaN</td>\n",
              "      <td>NaN</td>\n",
              "      <td>NaN</td>\n",
              "      <td>NaN</td>\n",
              "      <td>NaN</td>\n",
              "      <td>NaN</td>\n",
              "      <td>NaN</td>\n",
              "      <td>NaN</td>\n",
              "      <td>NaN</td>\n",
              "    </tr>\n",
              "    <tr>\n",
              "      <th>3998</th>\n",
              "      <td>55d71847-9511-4417-aea9-6f415e279011</td>\n",
              "      <td>3999</td>\n",
              "      <td>2</td>\n",
              "      <td>00:46:42.770</td>\n",
              "      <td>91</td>\n",
              "      <td>42</td>\n",
              "      <td>144</td>\n",
              "      <td>0.497348</td>\n",
              "      <td>16</td>\n",
              "      <td>Shot</td>\n",
              "      <td>...</td>\n",
              "      <td>NaN</td>\n",
              "      <td>NaN</td>\n",
              "      <td>NaN</td>\n",
              "      <td>NaN</td>\n",
              "      <td>NaN</td>\n",
              "      <td>NaN</td>\n",
              "      <td>NaN</td>\n",
              "      <td>NaN</td>\n",
              "      <td>NaN</td>\n",
              "      <td>NaN</td>\n",
              "    </tr>\n",
              "    <tr>\n",
              "      <th>3999</th>\n",
              "      <td>f93a1612-e2de-4efe-b202-6c4a178eebad</td>\n",
              "      <td>4000</td>\n",
              "      <td>2</td>\n",
              "      <td>00:46:43.268</td>\n",
              "      <td>91</td>\n",
              "      <td>43</td>\n",
              "      <td>144</td>\n",
              "      <td>0.000000</td>\n",
              "      <td>23</td>\n",
              "      <td>Goal Keeper</td>\n",
              "      <td>...</td>\n",
              "      <td>NaN</td>\n",
              "      <td>NaN</td>\n",
              "      <td>NaN</td>\n",
              "      <td>NaN</td>\n",
              "      <td>NaN</td>\n",
              "      <td>NaN</td>\n",
              "      <td>NaN</td>\n",
              "      <td>NaN</td>\n",
              "      <td>NaN</td>\n",
              "      <td>NaN</td>\n",
              "    </tr>\n",
              "    <tr>\n",
              "      <th>4000</th>\n",
              "      <td>e1cc4d5e-ba55-4b6b-88cc-dae13311c1d9</td>\n",
              "      <td>4001</td>\n",
              "      <td>2</td>\n",
              "      <td>00:47:32.053</td>\n",
              "      <td>92</td>\n",
              "      <td>32</td>\n",
              "      <td>144</td>\n",
              "      <td>0.000000</td>\n",
              "      <td>34</td>\n",
              "      <td>Half End</td>\n",
              "      <td>...</td>\n",
              "      <td>NaN</td>\n",
              "      <td>NaN</td>\n",
              "      <td>NaN</td>\n",
              "      <td>NaN</td>\n",
              "      <td>NaN</td>\n",
              "      <td>NaN</td>\n",
              "      <td>NaN</td>\n",
              "      <td>NaN</td>\n",
              "      <td>NaN</td>\n",
              "      <td>NaN</td>\n",
              "    </tr>\n",
              "    <tr>\n",
              "      <th>4001</th>\n",
              "      <td>cd767526-5f64-4600-acbf-e0a2608f0d00</td>\n",
              "      <td>4002</td>\n",
              "      <td>2</td>\n",
              "      <td>00:47:32.053</td>\n",
              "      <td>92</td>\n",
              "      <td>32</td>\n",
              "      <td>144</td>\n",
              "      <td>0.000000</td>\n",
              "      <td>34</td>\n",
              "      <td>Half End</td>\n",
              "      <td>...</td>\n",
              "      <td>NaN</td>\n",
              "      <td>NaN</td>\n",
              "      <td>NaN</td>\n",
              "      <td>NaN</td>\n",
              "      <td>NaN</td>\n",
              "      <td>NaN</td>\n",
              "      <td>NaN</td>\n",
              "      <td>NaN</td>\n",
              "      <td>NaN</td>\n",
              "      <td>NaN</td>\n",
              "    </tr>\n",
              "  </tbody>\n",
              "</table>\n",
              "<p>4002 rows × 105 columns</p>\n",
              "</div>\n",
              "      <button class=\"colab-df-convert\" onclick=\"convertToInteractive('df-5f3811dd-5fb3-4a4b-bec7-a0f9eb8d9393')\"\n",
              "              title=\"Convert this dataframe to an interactive table.\"\n",
              "              style=\"display:none;\">\n",
              "        \n",
              "  <svg xmlns=\"http://www.w3.org/2000/svg\" height=\"24px\"viewBox=\"0 0 24 24\"\n",
              "       width=\"24px\">\n",
              "    <path d=\"M0 0h24v24H0V0z\" fill=\"none\"/>\n",
              "    <path d=\"M18.56 5.44l.94 2.06.94-2.06 2.06-.94-2.06-.94-.94-2.06-.94 2.06-2.06.94zm-11 1L8.5 8.5l.94-2.06 2.06-.94-2.06-.94L8.5 2.5l-.94 2.06-2.06.94zm10 10l.94 2.06.94-2.06 2.06-.94-2.06-.94-.94-2.06-.94 2.06-2.06.94z\"/><path d=\"M17.41 7.96l-1.37-1.37c-.4-.4-.92-.59-1.43-.59-.52 0-1.04.2-1.43.59L10.3 9.45l-7.72 7.72c-.78.78-.78 2.05 0 2.83L4 21.41c.39.39.9.59 1.41.59.51 0 1.02-.2 1.41-.59l7.78-7.78 2.81-2.81c.8-.78.8-2.07 0-2.86zM5.41 20L4 18.59l7.72-7.72 1.47 1.35L5.41 20z\"/>\n",
              "  </svg>\n",
              "      </button>\n",
              "      \n",
              "  <style>\n",
              "    .colab-df-container {\n",
              "      display:flex;\n",
              "      flex-wrap:wrap;\n",
              "      gap: 12px;\n",
              "    }\n",
              "\n",
              "    .colab-df-convert {\n",
              "      background-color: #E8F0FE;\n",
              "      border: none;\n",
              "      border-radius: 50%;\n",
              "      cursor: pointer;\n",
              "      display: none;\n",
              "      fill: #1967D2;\n",
              "      height: 32px;\n",
              "      padding: 0 0 0 0;\n",
              "      width: 32px;\n",
              "    }\n",
              "\n",
              "    .colab-df-convert:hover {\n",
              "      background-color: #E2EBFA;\n",
              "      box-shadow: 0px 1px 2px rgba(60, 64, 67, 0.3), 0px 1px 3px 1px rgba(60, 64, 67, 0.15);\n",
              "      fill: #174EA6;\n",
              "    }\n",
              "\n",
              "    [theme=dark] .colab-df-convert {\n",
              "      background-color: #3B4455;\n",
              "      fill: #D2E3FC;\n",
              "    }\n",
              "\n",
              "    [theme=dark] .colab-df-convert:hover {\n",
              "      background-color: #434B5C;\n",
              "      box-shadow: 0px 1px 3px 1px rgba(0, 0, 0, 0.15);\n",
              "      filter: drop-shadow(0px 1px 2px rgba(0, 0, 0, 0.3));\n",
              "      fill: #FFFFFF;\n",
              "    }\n",
              "  </style>\n",
              "\n",
              "      <script>\n",
              "        const buttonEl =\n",
              "          document.querySelector('#df-5f3811dd-5fb3-4a4b-bec7-a0f9eb8d9393 button.colab-df-convert');\n",
              "        buttonEl.style.display =\n",
              "          google.colab.kernel.accessAllowed ? 'block' : 'none';\n",
              "\n",
              "        async function convertToInteractive(key) {\n",
              "          const element = document.querySelector('#df-5f3811dd-5fb3-4a4b-bec7-a0f9eb8d9393');\n",
              "          const dataTable =\n",
              "            await google.colab.kernel.invokeFunction('convertToInteractive',\n",
              "                                                     [key], {});\n",
              "          if (!dataTable) return;\n",
              "\n",
              "          const docLinkHtml = 'Like what you see? Visit the ' +\n",
              "            '<a target=\"_blank\" href=https://colab.research.google.com/notebooks/data_table.ipynb>data table notebook</a>'\n",
              "            + ' to learn more about interactive tables.';\n",
              "          element.innerHTML = '';\n",
              "          dataTable['output_type'] = 'display_data';\n",
              "          await google.colab.output.renderOutput(dataTable, element);\n",
              "          const docLink = document.createElement('div');\n",
              "          docLink.innerHTML = docLinkHtml;\n",
              "          element.appendChild(docLink);\n",
              "        }\n",
              "      </script>\n",
              "    </div>\n",
              "  </div>\n",
              "  "
            ]
          },
          "metadata": {},
          "execution_count": 11
        }
      ]
    },
    {
      "cell_type": "code",
      "source": [
        "df_pass= df_nested[df_nested[\"pass.recipient.name\"].notna()]"
      ],
      "metadata": {
        "id": "V8S4GmYa1jt5"
      },
      "execution_count": null,
      "outputs": []
    },
    {
      "cell_type": "markdown",
      "source": [
        "#### Informações de Localização de Jogadores"
      ],
      "metadata": {
        "id": "XmjH905dpYP4"
      }
    },
    {
      "cell_type": "code",
      "source": [
        "df_location = df_nested[df_nested[\"location\"].notna()]"
      ],
      "metadata": {
        "id": "HJUuUEYLbHE7"
      },
      "execution_count": null,
      "outputs": []
    },
    {
      "cell_type": "code",
      "source": [
        "df_pass.columns"
      ],
      "metadata": {
        "colab": {
          "base_uri": "https://localhost:8080/"
        },
        "id": "JOdi0dx1UCWr",
        "outputId": "0e9bf737-f0fb-4a8d-c8a2-844db6ae74c1"
      },
      "execution_count": null,
      "outputs": [
        {
          "output_type": "execute_result",
          "data": {
            "text/plain": [
              "Index(['id', 'index', 'period', 'timestamp', 'minute', 'second', 'possession',\n",
              "       'duration', 'type.id', 'type.name',\n",
              "       ...\n",
              "       'substitution.outcome.name', 'substitution.replacement.id',\n",
              "       'substitution.replacement.name', 'pass.cut_back', 'shot.one_on_one',\n",
              "       'foul_committed.advantage', 'foul_won.advantage',\n",
              "       'foul_committed.type.id', 'foul_committed.type.name',\n",
              "       'pass.goal_assist'],\n",
              "      dtype='object', length=105)"
            ]
          },
          "metadata": {},
          "execution_count": 14
        }
      ]
    },
    {
      "cell_type": "code",
      "source": [
        "df_sliced = df_pass[['period', 'timestamp', 'minute', 'second',\n",
        "                       'duration', 'type.name',\n",
        "                       'possession_team.name', 'location', 'player.name',\n",
        "                       'position.name', 'pass.recipient.name', 'pass.length', \n",
        "                       'pass.angle', 'pass.height.name', 'pass.end_location', \n",
        "                       'pass.type.name', 'pass.body_part.name', 'pass.switch', \n",
        "                       'pass.outcome.name', 'pass.aerial_won']]"
      ],
      "metadata": {
        "id": "aN81BgkD14UK"
      },
      "execution_count": null,
      "outputs": []
    },
    {
      "cell_type": "code",
      "source": [
        "df_pass = df_sliced\n",
        "df_pass"
      ],
      "metadata": {
        "colab": {
          "base_uri": "https://localhost:8080/",
          "height": 782
        },
        "id": "-OKkZwwD23O6",
        "outputId": "a78f54e3-0515-4766-e4cc-0375f476256e"
      },
      "execution_count": null,
      "outputs": [
        {
          "output_type": "execute_result",
          "data": {
            "text/plain": [
              "      period     timestamp  minute  second  duration type.name  \\\n",
              "4          1  00:00:00.098       0       0     1.909      Pass   \n",
              "7          1  00:00:03.497       0       3     3.288      Pass   \n",
              "9          1  00:00:06.785       0       6     1.646      Pass   \n",
              "11         1  00:00:08.431       0       8     1.145      Pass   \n",
              "15         1  00:00:10.433       0      10     0.717      Pass   \n",
              "...      ...           ...     ...     ...       ...       ...   \n",
              "3981       2  00:46:23.599      91      23     1.809      Pass   \n",
              "3984       2  00:46:27.914      91      27     1.378      Pass   \n",
              "3987       2  00:46:31.395      91      31     2.833      Pass   \n",
              "3990       2  00:46:35.127      91      35     0.852      Pass   \n",
              "3994       2  00:46:38.906      91      38     1.581      Pass   \n",
              "\n",
              "     possession_team.name      location                       player.name  \\\n",
              "4        Deportivo Alavés  [61.0, 41.0]       Jonathan Rodríguez Menéndez   \n",
              "7        Deportivo Alavés  [36.0, 29.0]  Guillermo Alfonso Maripán Loaysa   \n",
              "9               Barcelona   [35.0, 8.0]          Sergio Busquets i Burgos   \n",
              "11              Barcelona  [36.0, 21.0]                      Ivan Rakitić   \n",
              "15              Barcelona   [34.0, 3.0]                   Ousmane Dembélé   \n",
              "...                   ...           ...                               ...   \n",
              "3981            Barcelona  [77.0, 78.0]            Sergi Roberto Carnicer   \n",
              "3984            Barcelona  [66.0, 74.0]         Arturo Erasmo Vidal Pardo   \n",
              "3987            Barcelona  [64.0, 55.0]                      Ivan Rakitić   \n",
              "3990            Barcelona   [92.0, 6.0]                  Jordi Alba Ramos   \n",
              "3994            Barcelona  [84.0, 28.0]          Luis Alberto Suárez Díaz   \n",
              "\n",
              "                  position.name               pass.recipient.name  \\\n",
              "4                 Left Midfield  Guillermo Alfonso Maripán Loaysa   \n",
              "7              Left Center Back             Rubén Sobrino Pozuelo   \n",
              "9         Right Center Midfield                      Ivan Rakitić   \n",
              "11         Left Center Midfield                   Ousmane Dembélé   \n",
              "15                Left Midfield                  Jordi Alba Ramos   \n",
              "...                         ...                               ...   \n",
              "3981                 Right Back         Arturo Erasmo Vidal Pardo   \n",
              "3984      Right Center Midfield                      Ivan Rakitić   \n",
              "3987  Center Defensive Midfield                  Jordi Alba Ramos   \n",
              "3990                  Left Back          Luis Alberto Suárez Díaz   \n",
              "3994             Center Forward    Lionel Andrés Messi Cuccittini   \n",
              "\n",
              "      pass.length  pass.angle pass.height.name pass.end_location  \\\n",
              "4       29.154760   -2.601173      Ground Pass      [36.0, 26.0]   \n",
              "7       66.603300    0.721655        High Pass      [86.0, 73.0]   \n",
              "9       13.000000    1.570796        High Pass      [35.0, 21.0]   \n",
              "11      19.000000   -1.570796         Low Pass       [36.0, 2.0]   \n",
              "15       8.062258   -3.017238      Ground Pass       [26.0, 2.0]   \n",
              "...           ...         ...              ...               ...   \n",
              "3981    11.704700   -2.792822      Ground Pass      [66.0, 74.0]   \n",
              "3984    14.317822   -2.003204      Ground Pass      [60.0, 61.0]   \n",
              "3987    55.470715   -1.082960        High Pass       [90.0, 6.0]   \n",
              "3990    21.023796    1.618380      Ground Pass      [91.0, 27.0]   \n",
              "3994    28.600698    0.636508        High Pass     [107.0, 45.0]   \n",
              "\n",
              "     pass.type.name pass.body_part.name pass.switch pass.outcome.name  \\\n",
              "4          Kick Off           Left Foot         NaN               NaN   \n",
              "7               NaN          Right Foot        True        Incomplete   \n",
              "9          Recovery                Head         NaN               NaN   \n",
              "11              NaN                Head         NaN               NaN   \n",
              "15              NaN          Right Foot         NaN               NaN   \n",
              "...             ...                 ...         ...               ...   \n",
              "3981            NaN          Right Foot         NaN               NaN   \n",
              "3984            NaN          Right Foot         NaN               NaN   \n",
              "3987            NaN          Right Foot        True               NaN   \n",
              "3990            NaN           Left Foot         NaN               NaN   \n",
              "3994            NaN          Right Foot         NaN               NaN   \n",
              "\n",
              "     pass.aerial_won  \n",
              "4                NaN  \n",
              "7                NaN  \n",
              "9                NaN  \n",
              "11               NaN  \n",
              "15               NaN  \n",
              "...              ...  \n",
              "3981             NaN  \n",
              "3984             NaN  \n",
              "3987             NaN  \n",
              "3990             NaN  \n",
              "3994             NaN  \n",
              "\n",
              "[1100 rows x 20 columns]"
            ],
            "text/html": [
              "\n",
              "  <div id=\"df-940b2c81-d882-44dd-9005-4031ab2c6500\">\n",
              "    <div class=\"colab-df-container\">\n",
              "      <div>\n",
              "<style scoped>\n",
              "    .dataframe tbody tr th:only-of-type {\n",
              "        vertical-align: middle;\n",
              "    }\n",
              "\n",
              "    .dataframe tbody tr th {\n",
              "        vertical-align: top;\n",
              "    }\n",
              "\n",
              "    .dataframe thead th {\n",
              "        text-align: right;\n",
              "    }\n",
              "</style>\n",
              "<table border=\"1\" class=\"dataframe\">\n",
              "  <thead>\n",
              "    <tr style=\"text-align: right;\">\n",
              "      <th></th>\n",
              "      <th>period</th>\n",
              "      <th>timestamp</th>\n",
              "      <th>minute</th>\n",
              "      <th>second</th>\n",
              "      <th>duration</th>\n",
              "      <th>type.name</th>\n",
              "      <th>possession_team.name</th>\n",
              "      <th>location</th>\n",
              "      <th>player.name</th>\n",
              "      <th>position.name</th>\n",
              "      <th>pass.recipient.name</th>\n",
              "      <th>pass.length</th>\n",
              "      <th>pass.angle</th>\n",
              "      <th>pass.height.name</th>\n",
              "      <th>pass.end_location</th>\n",
              "      <th>pass.type.name</th>\n",
              "      <th>pass.body_part.name</th>\n",
              "      <th>pass.switch</th>\n",
              "      <th>pass.outcome.name</th>\n",
              "      <th>pass.aerial_won</th>\n",
              "    </tr>\n",
              "  </thead>\n",
              "  <tbody>\n",
              "    <tr>\n",
              "      <th>4</th>\n",
              "      <td>1</td>\n",
              "      <td>00:00:00.098</td>\n",
              "      <td>0</td>\n",
              "      <td>0</td>\n",
              "      <td>1.909</td>\n",
              "      <td>Pass</td>\n",
              "      <td>Deportivo Alavés</td>\n",
              "      <td>[61.0, 41.0]</td>\n",
              "      <td>Jonathan Rodríguez Menéndez</td>\n",
              "      <td>Left Midfield</td>\n",
              "      <td>Guillermo Alfonso Maripán Loaysa</td>\n",
              "      <td>29.154760</td>\n",
              "      <td>-2.601173</td>\n",
              "      <td>Ground Pass</td>\n",
              "      <td>[36.0, 26.0]</td>\n",
              "      <td>Kick Off</td>\n",
              "      <td>Left Foot</td>\n",
              "      <td>NaN</td>\n",
              "      <td>NaN</td>\n",
              "      <td>NaN</td>\n",
              "    </tr>\n",
              "    <tr>\n",
              "      <th>7</th>\n",
              "      <td>1</td>\n",
              "      <td>00:00:03.497</td>\n",
              "      <td>0</td>\n",
              "      <td>3</td>\n",
              "      <td>3.288</td>\n",
              "      <td>Pass</td>\n",
              "      <td>Deportivo Alavés</td>\n",
              "      <td>[36.0, 29.0]</td>\n",
              "      <td>Guillermo Alfonso Maripán Loaysa</td>\n",
              "      <td>Left Center Back</td>\n",
              "      <td>Rubén Sobrino Pozuelo</td>\n",
              "      <td>66.603300</td>\n",
              "      <td>0.721655</td>\n",
              "      <td>High Pass</td>\n",
              "      <td>[86.0, 73.0]</td>\n",
              "      <td>NaN</td>\n",
              "      <td>Right Foot</td>\n",
              "      <td>True</td>\n",
              "      <td>Incomplete</td>\n",
              "      <td>NaN</td>\n",
              "    </tr>\n",
              "    <tr>\n",
              "      <th>9</th>\n",
              "      <td>1</td>\n",
              "      <td>00:00:06.785</td>\n",
              "      <td>0</td>\n",
              "      <td>6</td>\n",
              "      <td>1.646</td>\n",
              "      <td>Pass</td>\n",
              "      <td>Barcelona</td>\n",
              "      <td>[35.0, 8.0]</td>\n",
              "      <td>Sergio Busquets i Burgos</td>\n",
              "      <td>Right Center Midfield</td>\n",
              "      <td>Ivan Rakitić</td>\n",
              "      <td>13.000000</td>\n",
              "      <td>1.570796</td>\n",
              "      <td>High Pass</td>\n",
              "      <td>[35.0, 21.0]</td>\n",
              "      <td>Recovery</td>\n",
              "      <td>Head</td>\n",
              "      <td>NaN</td>\n",
              "      <td>NaN</td>\n",
              "      <td>NaN</td>\n",
              "    </tr>\n",
              "    <tr>\n",
              "      <th>11</th>\n",
              "      <td>1</td>\n",
              "      <td>00:00:08.431</td>\n",
              "      <td>0</td>\n",
              "      <td>8</td>\n",
              "      <td>1.145</td>\n",
              "      <td>Pass</td>\n",
              "      <td>Barcelona</td>\n",
              "      <td>[36.0, 21.0]</td>\n",
              "      <td>Ivan Rakitić</td>\n",
              "      <td>Left Center Midfield</td>\n",
              "      <td>Ousmane Dembélé</td>\n",
              "      <td>19.000000</td>\n",
              "      <td>-1.570796</td>\n",
              "      <td>Low Pass</td>\n",
              "      <td>[36.0, 2.0]</td>\n",
              "      <td>NaN</td>\n",
              "      <td>Head</td>\n",
              "      <td>NaN</td>\n",
              "      <td>NaN</td>\n",
              "      <td>NaN</td>\n",
              "    </tr>\n",
              "    <tr>\n",
              "      <th>15</th>\n",
              "      <td>1</td>\n",
              "      <td>00:00:10.433</td>\n",
              "      <td>0</td>\n",
              "      <td>10</td>\n",
              "      <td>0.717</td>\n",
              "      <td>Pass</td>\n",
              "      <td>Barcelona</td>\n",
              "      <td>[34.0, 3.0]</td>\n",
              "      <td>Ousmane Dembélé</td>\n",
              "      <td>Left Midfield</td>\n",
              "      <td>Jordi Alba Ramos</td>\n",
              "      <td>8.062258</td>\n",
              "      <td>-3.017238</td>\n",
              "      <td>Ground Pass</td>\n",
              "      <td>[26.0, 2.0]</td>\n",
              "      <td>NaN</td>\n",
              "      <td>Right Foot</td>\n",
              "      <td>NaN</td>\n",
              "      <td>NaN</td>\n",
              "      <td>NaN</td>\n",
              "    </tr>\n",
              "    <tr>\n",
              "      <th>...</th>\n",
              "      <td>...</td>\n",
              "      <td>...</td>\n",
              "      <td>...</td>\n",
              "      <td>...</td>\n",
              "      <td>...</td>\n",
              "      <td>...</td>\n",
              "      <td>...</td>\n",
              "      <td>...</td>\n",
              "      <td>...</td>\n",
              "      <td>...</td>\n",
              "      <td>...</td>\n",
              "      <td>...</td>\n",
              "      <td>...</td>\n",
              "      <td>...</td>\n",
              "      <td>...</td>\n",
              "      <td>...</td>\n",
              "      <td>...</td>\n",
              "      <td>...</td>\n",
              "      <td>...</td>\n",
              "      <td>...</td>\n",
              "    </tr>\n",
              "    <tr>\n",
              "      <th>3981</th>\n",
              "      <td>2</td>\n",
              "      <td>00:46:23.599</td>\n",
              "      <td>91</td>\n",
              "      <td>23</td>\n",
              "      <td>1.809</td>\n",
              "      <td>Pass</td>\n",
              "      <td>Barcelona</td>\n",
              "      <td>[77.0, 78.0]</td>\n",
              "      <td>Sergi Roberto Carnicer</td>\n",
              "      <td>Right Back</td>\n",
              "      <td>Arturo Erasmo Vidal Pardo</td>\n",
              "      <td>11.704700</td>\n",
              "      <td>-2.792822</td>\n",
              "      <td>Ground Pass</td>\n",
              "      <td>[66.0, 74.0]</td>\n",
              "      <td>NaN</td>\n",
              "      <td>Right Foot</td>\n",
              "      <td>NaN</td>\n",
              "      <td>NaN</td>\n",
              "      <td>NaN</td>\n",
              "    </tr>\n",
              "    <tr>\n",
              "      <th>3984</th>\n",
              "      <td>2</td>\n",
              "      <td>00:46:27.914</td>\n",
              "      <td>91</td>\n",
              "      <td>27</td>\n",
              "      <td>1.378</td>\n",
              "      <td>Pass</td>\n",
              "      <td>Barcelona</td>\n",
              "      <td>[66.0, 74.0]</td>\n",
              "      <td>Arturo Erasmo Vidal Pardo</td>\n",
              "      <td>Right Center Midfield</td>\n",
              "      <td>Ivan Rakitić</td>\n",
              "      <td>14.317822</td>\n",
              "      <td>-2.003204</td>\n",
              "      <td>Ground Pass</td>\n",
              "      <td>[60.0, 61.0]</td>\n",
              "      <td>NaN</td>\n",
              "      <td>Right Foot</td>\n",
              "      <td>NaN</td>\n",
              "      <td>NaN</td>\n",
              "      <td>NaN</td>\n",
              "    </tr>\n",
              "    <tr>\n",
              "      <th>3987</th>\n",
              "      <td>2</td>\n",
              "      <td>00:46:31.395</td>\n",
              "      <td>91</td>\n",
              "      <td>31</td>\n",
              "      <td>2.833</td>\n",
              "      <td>Pass</td>\n",
              "      <td>Barcelona</td>\n",
              "      <td>[64.0, 55.0]</td>\n",
              "      <td>Ivan Rakitić</td>\n",
              "      <td>Center Defensive Midfield</td>\n",
              "      <td>Jordi Alba Ramos</td>\n",
              "      <td>55.470715</td>\n",
              "      <td>-1.082960</td>\n",
              "      <td>High Pass</td>\n",
              "      <td>[90.0, 6.0]</td>\n",
              "      <td>NaN</td>\n",
              "      <td>Right Foot</td>\n",
              "      <td>True</td>\n",
              "      <td>NaN</td>\n",
              "      <td>NaN</td>\n",
              "    </tr>\n",
              "    <tr>\n",
              "      <th>3990</th>\n",
              "      <td>2</td>\n",
              "      <td>00:46:35.127</td>\n",
              "      <td>91</td>\n",
              "      <td>35</td>\n",
              "      <td>0.852</td>\n",
              "      <td>Pass</td>\n",
              "      <td>Barcelona</td>\n",
              "      <td>[92.0, 6.0]</td>\n",
              "      <td>Jordi Alba Ramos</td>\n",
              "      <td>Left Back</td>\n",
              "      <td>Luis Alberto Suárez Díaz</td>\n",
              "      <td>21.023796</td>\n",
              "      <td>1.618380</td>\n",
              "      <td>Ground Pass</td>\n",
              "      <td>[91.0, 27.0]</td>\n",
              "      <td>NaN</td>\n",
              "      <td>Left Foot</td>\n",
              "      <td>NaN</td>\n",
              "      <td>NaN</td>\n",
              "      <td>NaN</td>\n",
              "    </tr>\n",
              "    <tr>\n",
              "      <th>3994</th>\n",
              "      <td>2</td>\n",
              "      <td>00:46:38.906</td>\n",
              "      <td>91</td>\n",
              "      <td>38</td>\n",
              "      <td>1.581</td>\n",
              "      <td>Pass</td>\n",
              "      <td>Barcelona</td>\n",
              "      <td>[84.0, 28.0]</td>\n",
              "      <td>Luis Alberto Suárez Díaz</td>\n",
              "      <td>Center Forward</td>\n",
              "      <td>Lionel Andrés Messi Cuccittini</td>\n",
              "      <td>28.600698</td>\n",
              "      <td>0.636508</td>\n",
              "      <td>High Pass</td>\n",
              "      <td>[107.0, 45.0]</td>\n",
              "      <td>NaN</td>\n",
              "      <td>Right Foot</td>\n",
              "      <td>NaN</td>\n",
              "      <td>NaN</td>\n",
              "      <td>NaN</td>\n",
              "    </tr>\n",
              "  </tbody>\n",
              "</table>\n",
              "<p>1100 rows × 20 columns</p>\n",
              "</div>\n",
              "      <button class=\"colab-df-convert\" onclick=\"convertToInteractive('df-940b2c81-d882-44dd-9005-4031ab2c6500')\"\n",
              "              title=\"Convert this dataframe to an interactive table.\"\n",
              "              style=\"display:none;\">\n",
              "        \n",
              "  <svg xmlns=\"http://www.w3.org/2000/svg\" height=\"24px\"viewBox=\"0 0 24 24\"\n",
              "       width=\"24px\">\n",
              "    <path d=\"M0 0h24v24H0V0z\" fill=\"none\"/>\n",
              "    <path d=\"M18.56 5.44l.94 2.06.94-2.06 2.06-.94-2.06-.94-.94-2.06-.94 2.06-2.06.94zm-11 1L8.5 8.5l.94-2.06 2.06-.94-2.06-.94L8.5 2.5l-.94 2.06-2.06.94zm10 10l.94 2.06.94-2.06 2.06-.94-2.06-.94-.94-2.06-.94 2.06-2.06.94z\"/><path d=\"M17.41 7.96l-1.37-1.37c-.4-.4-.92-.59-1.43-.59-.52 0-1.04.2-1.43.59L10.3 9.45l-7.72 7.72c-.78.78-.78 2.05 0 2.83L4 21.41c.39.39.9.59 1.41.59.51 0 1.02-.2 1.41-.59l7.78-7.78 2.81-2.81c.8-.78.8-2.07 0-2.86zM5.41 20L4 18.59l7.72-7.72 1.47 1.35L5.41 20z\"/>\n",
              "  </svg>\n",
              "      </button>\n",
              "      \n",
              "  <style>\n",
              "    .colab-df-container {\n",
              "      display:flex;\n",
              "      flex-wrap:wrap;\n",
              "      gap: 12px;\n",
              "    }\n",
              "\n",
              "    .colab-df-convert {\n",
              "      background-color: #E8F0FE;\n",
              "      border: none;\n",
              "      border-radius: 50%;\n",
              "      cursor: pointer;\n",
              "      display: none;\n",
              "      fill: #1967D2;\n",
              "      height: 32px;\n",
              "      padding: 0 0 0 0;\n",
              "      width: 32px;\n",
              "    }\n",
              "\n",
              "    .colab-df-convert:hover {\n",
              "      background-color: #E2EBFA;\n",
              "      box-shadow: 0px 1px 2px rgba(60, 64, 67, 0.3), 0px 1px 3px 1px rgba(60, 64, 67, 0.15);\n",
              "      fill: #174EA6;\n",
              "    }\n",
              "\n",
              "    [theme=dark] .colab-df-convert {\n",
              "      background-color: #3B4455;\n",
              "      fill: #D2E3FC;\n",
              "    }\n",
              "\n",
              "    [theme=dark] .colab-df-convert:hover {\n",
              "      background-color: #434B5C;\n",
              "      box-shadow: 0px 1px 3px 1px rgba(0, 0, 0, 0.15);\n",
              "      filter: drop-shadow(0px 1px 2px rgba(0, 0, 0, 0.3));\n",
              "      fill: #FFFFFF;\n",
              "    }\n",
              "  </style>\n",
              "\n",
              "      <script>\n",
              "        const buttonEl =\n",
              "          document.querySelector('#df-940b2c81-d882-44dd-9005-4031ab2c6500 button.colab-df-convert');\n",
              "        buttonEl.style.display =\n",
              "          google.colab.kernel.accessAllowed ? 'block' : 'none';\n",
              "\n",
              "        async function convertToInteractive(key) {\n",
              "          const element = document.querySelector('#df-940b2c81-d882-44dd-9005-4031ab2c6500');\n",
              "          const dataTable =\n",
              "            await google.colab.kernel.invokeFunction('convertToInteractive',\n",
              "                                                     [key], {});\n",
              "          if (!dataTable) return;\n",
              "\n",
              "          const docLinkHtml = 'Like what you see? Visit the ' +\n",
              "            '<a target=\"_blank\" href=https://colab.research.google.com/notebooks/data_table.ipynb>data table notebook</a>'\n",
              "            + ' to learn more about interactive tables.';\n",
              "          element.innerHTML = '';\n",
              "          dataTable['output_type'] = 'display_data';\n",
              "          await google.colab.output.renderOutput(dataTable, element);\n",
              "          const docLink = document.createElement('div');\n",
              "          docLink.innerHTML = docLinkHtml;\n",
              "          element.appendChild(docLink);\n",
              "        }\n",
              "      </script>\n",
              "    </div>\n",
              "  </div>\n",
              "  "
            ]
          },
          "metadata": {},
          "execution_count": 16
        }
      ]
    },
    {
      "cell_type": "code",
      "source": [
        "df_location = df_location[['location','player.name']]"
      ],
      "metadata": {
        "id": "1riG8t4Jbl0E"
      },
      "execution_count": null,
      "outputs": []
    },
    {
      "cell_type": "code",
      "source": [
        "df_location"
      ],
      "metadata": {
        "colab": {
          "base_uri": "https://localhost:8080/",
          "height": 424
        },
        "id": "X55t95Zyb5RW",
        "outputId": "2f6f626e-083a-4626-e99c-140c7749cb49"
      },
      "execution_count": null,
      "outputs": [
        {
          "output_type": "execute_result",
          "data": {
            "text/plain": [
              "           location                       player.name\n",
              "4      [61.0, 41.0]       Jonathan Rodríguez Menéndez\n",
              "5      [36.0, 26.0]  Guillermo Alfonso Maripán Loaysa\n",
              "6      [36.0, 26.0]  Guillermo Alfonso Maripán Loaysa\n",
              "7      [36.0, 29.0]  Guillermo Alfonso Maripán Loaysa\n",
              "8      [85.0, 73.0]             Rubén Sobrino Pozuelo\n",
              "...             ...                               ...\n",
              "3995  [107.0, 45.0]    Lionel Andrés Messi Cuccittini\n",
              "3996  [107.0, 45.0]    Lionel Andrés Messi Cuccittini\n",
              "3997   [13.0, 41.0]  Guillermo Alfonso Maripán Loaysa\n",
              "3998  [112.0, 34.6]    Lionel Andrés Messi Cuccittini\n",
              "3999    [3.0, 43.3]           Fernando Pacheco Flores\n",
              "\n",
              "[3938 rows x 2 columns]"
            ],
            "text/html": [
              "\n",
              "  <div id=\"df-ac8ec3bc-d043-426d-ac1c-399ae55e564a\">\n",
              "    <div class=\"colab-df-container\">\n",
              "      <div>\n",
              "<style scoped>\n",
              "    .dataframe tbody tr th:only-of-type {\n",
              "        vertical-align: middle;\n",
              "    }\n",
              "\n",
              "    .dataframe tbody tr th {\n",
              "        vertical-align: top;\n",
              "    }\n",
              "\n",
              "    .dataframe thead th {\n",
              "        text-align: right;\n",
              "    }\n",
              "</style>\n",
              "<table border=\"1\" class=\"dataframe\">\n",
              "  <thead>\n",
              "    <tr style=\"text-align: right;\">\n",
              "      <th></th>\n",
              "      <th>location</th>\n",
              "      <th>player.name</th>\n",
              "    </tr>\n",
              "  </thead>\n",
              "  <tbody>\n",
              "    <tr>\n",
              "      <th>4</th>\n",
              "      <td>[61.0, 41.0]</td>\n",
              "      <td>Jonathan Rodríguez Menéndez</td>\n",
              "    </tr>\n",
              "    <tr>\n",
              "      <th>5</th>\n",
              "      <td>[36.0, 26.0]</td>\n",
              "      <td>Guillermo Alfonso Maripán Loaysa</td>\n",
              "    </tr>\n",
              "    <tr>\n",
              "      <th>6</th>\n",
              "      <td>[36.0, 26.0]</td>\n",
              "      <td>Guillermo Alfonso Maripán Loaysa</td>\n",
              "    </tr>\n",
              "    <tr>\n",
              "      <th>7</th>\n",
              "      <td>[36.0, 29.0]</td>\n",
              "      <td>Guillermo Alfonso Maripán Loaysa</td>\n",
              "    </tr>\n",
              "    <tr>\n",
              "      <th>8</th>\n",
              "      <td>[85.0, 73.0]</td>\n",
              "      <td>Rubén Sobrino Pozuelo</td>\n",
              "    </tr>\n",
              "    <tr>\n",
              "      <th>...</th>\n",
              "      <td>...</td>\n",
              "      <td>...</td>\n",
              "    </tr>\n",
              "    <tr>\n",
              "      <th>3995</th>\n",
              "      <td>[107.0, 45.0]</td>\n",
              "      <td>Lionel Andrés Messi Cuccittini</td>\n",
              "    </tr>\n",
              "    <tr>\n",
              "      <th>3996</th>\n",
              "      <td>[107.0, 45.0]</td>\n",
              "      <td>Lionel Andrés Messi Cuccittini</td>\n",
              "    </tr>\n",
              "    <tr>\n",
              "      <th>3997</th>\n",
              "      <td>[13.0, 41.0]</td>\n",
              "      <td>Guillermo Alfonso Maripán Loaysa</td>\n",
              "    </tr>\n",
              "    <tr>\n",
              "      <th>3998</th>\n",
              "      <td>[112.0, 34.6]</td>\n",
              "      <td>Lionel Andrés Messi Cuccittini</td>\n",
              "    </tr>\n",
              "    <tr>\n",
              "      <th>3999</th>\n",
              "      <td>[3.0, 43.3]</td>\n",
              "      <td>Fernando Pacheco Flores</td>\n",
              "    </tr>\n",
              "  </tbody>\n",
              "</table>\n",
              "<p>3938 rows × 2 columns</p>\n",
              "</div>\n",
              "      <button class=\"colab-df-convert\" onclick=\"convertToInteractive('df-ac8ec3bc-d043-426d-ac1c-399ae55e564a')\"\n",
              "              title=\"Convert this dataframe to an interactive table.\"\n",
              "              style=\"display:none;\">\n",
              "        \n",
              "  <svg xmlns=\"http://www.w3.org/2000/svg\" height=\"24px\"viewBox=\"0 0 24 24\"\n",
              "       width=\"24px\">\n",
              "    <path d=\"M0 0h24v24H0V0z\" fill=\"none\"/>\n",
              "    <path d=\"M18.56 5.44l.94 2.06.94-2.06 2.06-.94-2.06-.94-.94-2.06-.94 2.06-2.06.94zm-11 1L8.5 8.5l.94-2.06 2.06-.94-2.06-.94L8.5 2.5l-.94 2.06-2.06.94zm10 10l.94 2.06.94-2.06 2.06-.94-2.06-.94-.94-2.06-.94 2.06-2.06.94z\"/><path d=\"M17.41 7.96l-1.37-1.37c-.4-.4-.92-.59-1.43-.59-.52 0-1.04.2-1.43.59L10.3 9.45l-7.72 7.72c-.78.78-.78 2.05 0 2.83L4 21.41c.39.39.9.59 1.41.59.51 0 1.02-.2 1.41-.59l7.78-7.78 2.81-2.81c.8-.78.8-2.07 0-2.86zM5.41 20L4 18.59l7.72-7.72 1.47 1.35L5.41 20z\"/>\n",
              "  </svg>\n",
              "      </button>\n",
              "      \n",
              "  <style>\n",
              "    .colab-df-container {\n",
              "      display:flex;\n",
              "      flex-wrap:wrap;\n",
              "      gap: 12px;\n",
              "    }\n",
              "\n",
              "    .colab-df-convert {\n",
              "      background-color: #E8F0FE;\n",
              "      border: none;\n",
              "      border-radius: 50%;\n",
              "      cursor: pointer;\n",
              "      display: none;\n",
              "      fill: #1967D2;\n",
              "      height: 32px;\n",
              "      padding: 0 0 0 0;\n",
              "      width: 32px;\n",
              "    }\n",
              "\n",
              "    .colab-df-convert:hover {\n",
              "      background-color: #E2EBFA;\n",
              "      box-shadow: 0px 1px 2px rgba(60, 64, 67, 0.3), 0px 1px 3px 1px rgba(60, 64, 67, 0.15);\n",
              "      fill: #174EA6;\n",
              "    }\n",
              "\n",
              "    [theme=dark] .colab-df-convert {\n",
              "      background-color: #3B4455;\n",
              "      fill: #D2E3FC;\n",
              "    }\n",
              "\n",
              "    [theme=dark] .colab-df-convert:hover {\n",
              "      background-color: #434B5C;\n",
              "      box-shadow: 0px 1px 3px 1px rgba(0, 0, 0, 0.15);\n",
              "      filter: drop-shadow(0px 1px 2px rgba(0, 0, 0, 0.3));\n",
              "      fill: #FFFFFF;\n",
              "    }\n",
              "  </style>\n",
              "\n",
              "      <script>\n",
              "        const buttonEl =\n",
              "          document.querySelector('#df-ac8ec3bc-d043-426d-ac1c-399ae55e564a button.colab-df-convert');\n",
              "        buttonEl.style.display =\n",
              "          google.colab.kernel.accessAllowed ? 'block' : 'none';\n",
              "\n",
              "        async function convertToInteractive(key) {\n",
              "          const element = document.querySelector('#df-ac8ec3bc-d043-426d-ac1c-399ae55e564a');\n",
              "          const dataTable =\n",
              "            await google.colab.kernel.invokeFunction('convertToInteractive',\n",
              "                                                     [key], {});\n",
              "          if (!dataTable) return;\n",
              "\n",
              "          const docLinkHtml = 'Like what you see? Visit the ' +\n",
              "            '<a target=\"_blank\" href=https://colab.research.google.com/notebooks/data_table.ipynb>data table notebook</a>'\n",
              "            + ' to learn more about interactive tables.';\n",
              "          element.innerHTML = '';\n",
              "          dataTable['output_type'] = 'display_data';\n",
              "          await google.colab.output.renderOutput(dataTable, element);\n",
              "          const docLink = document.createElement('div');\n",
              "          docLink.innerHTML = docLinkHtml;\n",
              "          element.appendChild(docLink);\n",
              "        }\n",
              "      </script>\n",
              "    </div>\n",
              "  </div>\n",
              "  "
            ]
          },
          "metadata": {},
          "execution_count": 18
        }
      ]
    },
    {
      "cell_type": "code",
      "source": [
        "df_pass.iat[0,10]"
      ],
      "metadata": {
        "colab": {
          "base_uri": "https://localhost:8080/",
          "height": 36
        },
        "id": "XQEMUOB9dlrF",
        "outputId": "1cf4c45e-c17b-444f-dea3-c8a5f8b78adf"
      },
      "execution_count": null,
      "outputs": [
        {
          "output_type": "execute_result",
          "data": {
            "text/plain": [
              "'Guillermo Alfonso Maripán Loaysa'"
            ],
            "application/vnd.google.colaboratory.intrinsic+json": {
              "type": "string"
            }
          },
          "metadata": {},
          "execution_count": 19
        }
      ]
    },
    {
      "cell_type": "markdown",
      "source": [
        "#### Informações sobre Starting XI\n",
        "\n"
      ],
      "metadata": {
        "id": "JR4npBG15rpo"
      }
    },
    {
      "cell_type": "code",
      "source": [
        "df_starting = df_nested[:2]"
      ],
      "metadata": {
        "id": "BHQP4K4p5zVc"
      },
      "execution_count": null,
      "outputs": []
    },
    {
      "cell_type": "code",
      "source": [
        "df_sliced = df_starting[['team.name', 'tactics.formation', 'tactics.lineup']]"
      ],
      "metadata": {
        "id": "bF7HIfpi7M8H"
      },
      "execution_count": null,
      "outputs": []
    },
    {
      "cell_type": "code",
      "source": [
        "list_players = df_sliced.iat[0,2]\n",
        "list_players"
      ],
      "metadata": {
        "colab": {
          "base_uri": "https://localhost:8080/"
        },
        "id": "9MrAa5typDlV",
        "outputId": "1e62c1ca-4026-4964-a4f7-38b1f0d1dbc1"
      },
      "execution_count": null,
      "outputs": [
        {
          "output_type": "execute_result",
          "data": {
            "text/plain": [
              "[{'jersey_number': 1,\n",
              "  'player': {'id': 20055, 'name': 'Marc-André ter Stegen'},\n",
              "  'position': {'id': 1, 'name': 'Goalkeeper'}},\n",
              " {'jersey_number': 2,\n",
              "  'player': {'id': 6374, 'name': 'Nélson Cabral Semedo'},\n",
              "  'position': {'id': 2, 'name': 'Right Back'}},\n",
              " {'jersey_number': 3,\n",
              "  'player': {'id': 5213, 'name': 'Gerard Piqué Bernabéu'},\n",
              "  'position': {'id': 3, 'name': 'Right Center Back'}},\n",
              " {'jersey_number': 23,\n",
              "  'player': {'id': 5492, 'name': 'Samuel Yves Umtiti'},\n",
              "  'position': {'id': 5, 'name': 'Left Center Back'}},\n",
              " {'jersey_number': 18,\n",
              "  'player': {'id': 5211, 'name': 'Jordi Alba Ramos'},\n",
              "  'position': {'id': 6, 'name': 'Left Back'}},\n",
              " {'jersey_number': 20,\n",
              "  'player': {'id': 6379, 'name': 'Sergi Roberto Carnicer'},\n",
              "  'position': {'id': 12, 'name': 'Right Midfield'}},\n",
              " {'jersey_number': 5,\n",
              "  'player': {'id': 5203, 'name': 'Sergio Busquets i Burgos'},\n",
              "  'position': {'id': 13, 'name': 'Right Center Midfield'}},\n",
              " {'jersey_number': 4,\n",
              "  'player': {'id': 5470, 'name': 'Ivan Rakitić'},\n",
              "  'position': {'id': 15, 'name': 'Left Center Midfield'}},\n",
              " {'jersey_number': 11,\n",
              "  'player': {'id': 5477, 'name': 'Ousmane Dembélé'},\n",
              "  'position': {'id': 16, 'name': 'Left Midfield'}},\n",
              " {'jersey_number': 9,\n",
              "  'player': {'id': 5246, 'name': 'Luis Alberto Suárez Díaz'},\n",
              "  'position': {'id': 22, 'name': 'Right Center Forward'}},\n",
              " {'jersey_number': 10,\n",
              "  'player': {'id': 5503, 'name': 'Lionel Andrés Messi Cuccittini'},\n",
              "  'position': {'id': 24, 'name': 'Left Center Forward'}}]"
            ]
          },
          "metadata": {},
          "execution_count": 22
        }
      ]
    },
    {
      "cell_type": "code",
      "source": [
        "list_players = df_sliced.iat[0,2]\n",
        "barcelona_players = []\n",
        "for player_data in list_players:\n",
        "    barcelona_players.append((player_data['player']['name']).split()[-1])\n",
        "barcelona_players"
      ],
      "metadata": {
        "colab": {
          "base_uri": "https://localhost:8080/"
        },
        "id": "k8ELnoQjepEF",
        "outputId": "79ae07ad-9cad-4e76-cf44-541b69c21a2d"
      },
      "execution_count": null,
      "outputs": [
        {
          "output_type": "execute_result",
          "data": {
            "text/plain": [
              "['Stegen',\n",
              " 'Semedo',\n",
              " 'Bernabéu',\n",
              " 'Umtiti',\n",
              " 'Ramos',\n",
              " 'Carnicer',\n",
              " 'Burgos',\n",
              " 'Rakitić',\n",
              " 'Dembélé',\n",
              " 'Díaz',\n",
              " 'Cuccittini']"
            ]
          },
          "metadata": {},
          "execution_count": 23
        }
      ]
    },
    {
      "cell_type": "code",
      "source": [
        "list_players = df_sliced.iat[1,2]\n",
        "alaves_players = []\n",
        "for player_data in list_players:\n",
        "    alaves_players.append((player_data['player']['name']).split()[-1])\n",
        "alaves_players"
      ],
      "metadata": {
        "colab": {
          "base_uri": "https://localhost:8080/"
        },
        "id": "u4FR62yhfw0g",
        "outputId": "09d1e37c-2f81-430c-b351-7984960796fa"
      },
      "execution_count": null,
      "outputs": [
        {
          "output_type": "execute_result",
          "data": {
            "text/plain": [
              "['Flores',\n",
              " 'Padilla',\n",
              " 'Cisneros',\n",
              " 'Loaysa',\n",
              " 'Sánchez',\n",
              " 'Rojas',\n",
              " 'Pérez',\n",
              " 'Wakaso',\n",
              " 'Sánchez',\n",
              " 'Menéndez',\n",
              " 'Pozuelo']"
            ]
          },
          "metadata": {},
          "execution_count": 24
        }
      ]
    },
    {
      "cell_type": "markdown",
      "source": [
        "#### Coletando informações sobre posições de jogadores"
      ],
      "metadata": {
        "id": "hFbTxH-cdIyX"
      }
    },
    {
      "cell_type": "code",
      "source": [
        "teste = df_pass.loc[df_pass[\"player.name\"].str.split().str[-1] == barcelona_players[0]]\n",
        "teste[\"location\"].values[0]"
      ],
      "metadata": {
        "colab": {
          "base_uri": "https://localhost:8080/"
        },
        "id": "RFrhx9VtddMB",
        "outputId": "5f7e45a6-9d73-49c6-992c-326c257ad885"
      },
      "execution_count": null,
      "outputs": [
        {
          "output_type": "execute_result",
          "data": {
            "text/plain": [
              "[14.0, 28.0]"
            ]
          },
          "metadata": {},
          "execution_count": 25
        }
      ]
    },
    {
      "cell_type": "code",
      "source": [
        "barca_avg_location = {}\n",
        "for player in barcelona_players:\n",
        "    player_interactions = df_location.loc[df_location[\"player.name\"].str.split().str[-1] == player]\n",
        "    locations = player_interactions[\"location\"].values\n",
        "    x_avg = 0\n",
        "    y_avg = 0\n",
        "    for location in locations:\n",
        "        x = location[0]\n",
        "        y = location[1]\n",
        "        x_avg += x\n",
        "        y_avg += y\n",
        "    x_avg = x_avg / len(locations)\n",
        "    y_avg = y_avg / len(locations)\n",
        "    barca_avg_location[player] = [x_avg, 80-y_avg]\n",
        "barca_avg_location"
      ],
      "metadata": {
        "colab": {
          "base_uri": "https://localhost:8080/"
        },
        "id": "-hLQzJW5kb0h",
        "outputId": "19173155-c6cc-4945-f5d7-214bc218954c"
      },
      "execution_count": null,
      "outputs": [
        {
          "output_type": "execute_result",
          "data": {
            "text/plain": [
              "{'Bernabéu': [51.716425120772946, 26.046376811594207],\n",
              " 'Burgos': [67.54822134387352, 37.60118577075099],\n",
              " 'Carnicer': [74.49469964664311, 15.310954063604242],\n",
              " 'Cuccittini': [84.55931677018631, 21.629813664596284],\n",
              " 'Dembélé': [88.48204081632653, 59.41591836734693],\n",
              " 'Díaz': [90.6461038961039, 42.416233766233766],\n",
              " 'Rakitić': [67.98444444444445, 42.48518518518519],\n",
              " 'Ramos': [73.31750000000001, 67.5775],\n",
              " 'Semedo': [72.43434343434343, 9.97979797979798],\n",
              " 'Stegen': [10.680882352941177, 36.30882352941177],\n",
              " 'Umtiti': [46.52, 56.09142857142857]}"
            ]
          },
          "metadata": {},
          "execution_count": 26
        }
      ]
    },
    {
      "cell_type": "code",
      "source": [
        "alaves_avg_location = {}\n",
        "for player in alaves_players:\n",
        "    player_interactions = df_location.loc[df_location[\"player.name\"].str.split().str[-1] == player]\n",
        "    locations = player_interactions[\"location\"].values\n",
        "    x_avg = 0\n",
        "    y_avg = 0\n",
        "    for location in locations:\n",
        "        x = location[0]\n",
        "        y = location[1]\n",
        "        x_avg += x\n",
        "        y_avg += y\n",
        "    x_avg = x_avg / len(locations)\n",
        "    y_avg = y_avg / len(locations)\n",
        "    alaves_avg_location[player] = [x_avg, 80-y_avg]\n",
        "alaves_avg_location"
      ],
      "metadata": {
        "colab": {
          "base_uri": "https://localhost:8080/"
        },
        "id": "sTRv23kf5Z1k",
        "outputId": "9bf59649-8938-4e18-8526-2f52dfd400db"
      },
      "execution_count": null,
      "outputs": [
        {
          "output_type": "execute_result",
          "data": {
            "text/plain": [
              "{'Cisneros': [27.09777777777778, 30.69777777777778],\n",
              " 'Flores': [6.086666666666667, 38.55166666666666],\n",
              " 'Loaysa': [27.732142857142858, 52.75535714285714],\n",
              " 'Menéndez': [54.320388349514566, 65.07766990291262],\n",
              " 'Padilla': [34.72439024390244, 15.102439024390236],\n",
              " 'Pozuelo': [59.71140350877193, 38.704385964912284],\n",
              " 'Pérez': [49.8515625, 22.3046875],\n",
              " 'Rojas': [42.60166666666667, 49.47666666666667],\n",
              " 'Sánchez': [47.74337899543379, 55.051598173515984],\n",
              " 'Wakaso': [48.4664, 26.868000000000002]}"
            ]
          },
          "metadata": {},
          "execution_count": 27
        }
      ]
    },
    {
      "cell_type": "markdown",
      "source": [
        "## Retorno de Informações"
      ],
      "metadata": {
        "id": "Vxj6-r-hp3RL"
      }
    },
    {
      "cell_type": "markdown",
      "source": [
        "### Plots de informações prévias"
      ],
      "metadata": {
        "id": "a-5GlAxNp9_Q"
      }
    },
    {
      "cell_type": "markdown",
      "source": [
        "#### Plot starting XI"
      ],
      "metadata": {
        "id": "kqP6EvmgWaag"
      }
    },
    {
      "cell_type": "code",
      "source": [
        "alaves_net = nx.Graph()\n",
        "for player, position in alaves_avg_location.items():\n",
        "    alaves_net.add_node(player, pos=position)"
      ],
      "metadata": {
        "id": "auQKC_N54btk"
      },
      "execution_count": null,
      "outputs": []
    },
    {
      "cell_type": "code",
      "source": [
        "nx.draw(alaves_net, nx.get_node_attributes(alaves_net, 'pos'), with_labels=True, node_size=300)"
      ],
      "metadata": {
        "colab": {
          "base_uri": "https://localhost:8080/",
          "height": 319
        },
        "id": "HTtr6iUL7kWF",
        "outputId": "95027d97-a0fc-49ef-c019-21cf1ef4a075"
      },
      "execution_count": null,
      "outputs": [
        {
          "output_type": "display_data",
          "data": {
            "text/plain": [
              "<Figure size 432x288 with 1 Axes>"
            ],
            "image/png": "[encoded data removed]"
          },
          "metadata": {}
        }
      ]
    },
    {
      "cell_type": "code",
      "source": [
        "barca_net = nx.DiGraph()\n",
        "for player, position in barca_avg_location.items():\n",
        "    barca_net.add_node(player, pos=position)"
      ],
      "metadata": {
        "id": "-yS41UY28HVQ"
      },
      "execution_count": null,
      "outputs": []
    },
    {
      "cell_type": "code",
      "source": [
        "nx.draw(barca_net, nx.get_node_attributes(barca_net, 'pos'), with_labels=True, node_size=300)"
      ],
      "metadata": {
        "colab": {
          "base_uri": "https://localhost:8080/",
          "height": 319
        },
        "id": "Ik_btxH8cs0K",
        "outputId": "7e69d01f-c20f-409a-a595-bb9364196a0d"
      },
      "execution_count": null,
      "outputs": [
        {
          "output_type": "display_data",
          "data": {
            "text/plain": [
              "<Figure size 432x288 with 1 Axes>"
            ],
            "image/png": "[encoded data removed]"
          },
          "metadata": {}
        }
      ]
    },
    {
      "cell_type": "code",
      "source": [
        "img = plt.imread(\"image_pitch.png\")\n",
        "fig, ax = plt.subplots()\n",
        "ax.imshow(img, extent=[0, 120, -0, 80])\n",
        "nx.draw(barca_net, nx.get_node_attributes(barca_net, 'pos'), with_labels=True, node_size=70)\n",
        "plt.show()"
      ],
      "metadata": {
        "colab": {
          "base_uri": "https://localhost:8080/",
          "height": 248
        },
        "id": "4lWbm-dgeX-Z",
        "outputId": "6e856474-0f51-436c-ca41-c6568696aa95"
      },
      "execution_count": null,
      "outputs": [
        {
          "output_type": "display_data",
          "data": {
            "text/plain": [
              "<Figure size 432x288 with 1 Axes>"
            ],
            "image/png": "[encoded data removed]"
          },
          "metadata": {}
        }
      ]
    },
    {
      "cell_type": "code",
      "source": [
        "img = plt.imread(\"image_pitch.png\")\n",
        "fig, ax = plt.subplots()\n",
        "ax.imshow(img, extent=[0, 120, -0, 80])\n",
        "nx.draw(alaves_net, nx.get_node_attributes(alaves_net, 'pos'), with_labels=True, node_size=70)\n",
        "plt.show()"
      ],
      "metadata": {
        "colab": {
          "base_uri": "https://localhost:8080/",
          "height": 248
        },
        "outputId": "7601983e-a66f-4b6e-f331-0d5a7d7892ce",
        "id": "m0m996BYg5oW"
      },
      "execution_count": null,
      "outputs": [
        {
          "output_type": "display_data",
          "data": {
            "text/plain": [
              "<Figure size 432x288 with 1 Axes>"
            ],
            "image/png": "[encoded data removed]"
          },
          "metadata": {}
        }
      ]
    },
    {
      "cell_type": "markdown",
      "source": [
        "#### Adicionando arcos aos Grafos Plotados "
      ],
      "metadata": {
        "id": "mxunF3aaVLTn"
      }
    },
    {
      "cell_type": "markdown",
      "source": [
        "##### Construção de Matrizes de Adjacência"
      ],
      "metadata": {
        "id": "6RbyI1vCXgmH"
      }
    },
    {
      "cell_type": "code",
      "source": [
        "mat_adjac_bar = []\n",
        "for p1 in range (len(barcelona_players)):\n",
        "  aux = []\n",
        "  for p2 in range (len(barcelona_players)):\n",
        "    subset = df_pass[(df_pass['player.name'].str.split().str[-1] == barcelona_players[p1]) &\n",
        "                     (df_pass['pass.recipient.name'].str.split().str[-1] == barcelona_players[p2])]\n",
        "    aux.append(subset['player.name'].count())\n",
        "  mat_adjac_bar.append(aux)\n"
      ],
      "metadata": {
        "id": "i6F3t3iEr8-W"
      },
      "execution_count": null,
      "outputs": []
    },
    {
      "cell_type": "markdown",
      "source": [
        "Abaixo uma visualização da estrutura de Adjacências que está sendo montadas"
      ],
      "metadata": {
        "id": "llEYkdqDWmb9"
      }
    },
    {
      "cell_type": "code",
      "source": [
        "ax = sns.heatmap(mat_adjac_bar, linewidth=0.5, xticklabels=barcelona_players,\n",
        "                 yticklabels=barcelona_players, cmap=\"YlGnBu\")\n",
        "plt.show()"
      ],
      "metadata": {
        "colab": {
          "base_uri": "https://localhost:8080/",
          "height": 304
        },
        "id": "-ZrBHZfUu1g1",
        "outputId": "7049c553-d3b0-4ee7-a136-c16be8d7751d"
      },
      "execution_count": null,
      "outputs": [
        {
          "output_type": "display_data",
          "data": {
            "text/plain": [
              "<Figure size 432x288 with 2 Axes>"
            ],
            "image/png": "[encoded data removed]"
          },
          "metadata": {
            "needs_background": "light"
          }
        }
      ]
    },
    {
      "cell_type": "code",
      "source": [
        "for row in range(len(mat_adjac_bar)):\n",
        "  for item in range(len(mat_adjac_bar[row])):\n",
        "    if (mat_adjac_bar[row][item]>0):\n",
        "      barca_net.add_weighted_edges_from([(barcelona_players[row],\n",
        "                                          barcelona_players[item],\n",
        "                                          90/mat_adjac_bar[row][item])])"
      ],
      "metadata": {
        "id": "cs1VpK8bIxGb"
      },
      "execution_count": null,
      "outputs": []
    },
    {
      "cell_type": "code",
      "source": [
        "mat_adjac_ala = []\n",
        "for p1 in range (len(alaves_players)):\n",
        "  aux = []\n",
        "  for p2 in range (len(alaves_players)):\n",
        "    subset = df_pass[(df_pass['player.name'].str.split().str[-1] == alaves_players[p1]) &\n",
        "                     (df_pass['pass.recipient.name'].str.split().str[-1] == alaves_players[p2])]\n",
        "    aux.append(subset['player.name'].count())\n",
        "  mat_adjac_ala.append(aux)\n"
      ],
      "metadata": {
        "id": "qS33fBZqZXe_"
      },
      "execution_count": null,
      "outputs": []
    },
    {
      "cell_type": "code",
      "source": [
        "ax = sns.heatmap(mat_adjac_ala, linewidth=0.5, xticklabels=alaves_players,\n",
        "                 yticklabels=alaves_players, cmap=\"YlGnBu\")\n",
        "plt.show()"
      ],
      "metadata": {
        "colab": {
          "base_uri": "https://localhost:8080/",
          "height": 307
        },
        "id": "NVUrZzLrXqe-",
        "outputId": "3c653c32-730f-4ae9-c22e-d0ebe88345af"
      },
      "execution_count": null,
      "outputs": [
        {
          "output_type": "display_data",
          "data": {
            "text/plain": [
              "<Figure size 432x288 with 2 Axes>"
            ],
            "image/png": "[encoded data removed]"
          },
          "metadata": {
            "needs_background": "light"
          }
        }
      ]
    },
    {
      "cell_type": "code",
      "source": [
        "for row in range(len(mat_adjac_ala)):\n",
        "  for item in range(len(mat_adjac_ala[row])):\n",
        "    if (mat_adjac_ala[row][item]>0):\n",
        "      alaves_net.add_weighted_edges_from([(alaves_players[row],\n",
        "                                          alaves_players[item],\n",
        "                                          90/mat_adjac_ala[row][item])])"
      ],
      "metadata": {
        "id": "lpkJ4TPmZZoe"
      },
      "execution_count": null,
      "outputs": []
    },
    {
      "cell_type": "markdown",
      "source": [
        "#### Plot de Redes de Passes"
      ],
      "metadata": {
        "id": "ppaI9sAhXtX-"
      }
    },
    {
      "cell_type": "code",
      "source": [
        "img = plt.imread(\"image_pitch.png\")\n",
        "fig, ax = plt.subplots()\n",
        "ax.imshow(img, extent=[0, 120, -0, 80])\n",
        "pos = nx.spring_layout(barca_net)\n",
        "weights = [x / 40 for x in list(nx.get_edge_attributes(barca_net,'weight').values())]\n",
        "nx.draw(barca_net, nx.get_node_attributes(barca_net, 'pos'), with_labels=True,\n",
        "        node_size=70,width=weights, arrows=True, arrowstyle='-|>', style=':')\n",
        "plt.show()"
      ],
      "metadata": {
        "colab": {
          "base_uri": "https://localhost:8080/",
          "height": 248
        },
        "id": "EkUcvB43SK-a",
        "outputId": "b3e41893-22e3-4b48-b9aa-a339bcd0ff9b"
      },
      "execution_count": null,
      "outputs": [
        {
          "output_type": "display_data",
          "data": {
            "text/plain": [
              "<Figure size 432x288 with 1 Axes>"
            ],
            "image/png": "[encoded data removed]"
          },
          "metadata": {}
        }
      ]
    },
    {
      "cell_type": "code",
      "source": [
        "img = plt.imread(\"image_pitch.png\")\n",
        "fig, ax = plt.subplots()\n",
        "ax.imshow(img, extent=[0, 120, -0, 80])\n",
        "pos = nx.spring_layout(alaves_net)\n",
        "weights = [x / 40 for x in list(nx.get_edge_attributes(alaves_net,'weight').values())]\n",
        "nx.draw(alaves_net, nx.get_node_attributes(alaves_net, 'pos'), with_labels=True,\n",
        "        node_size=70,width=weights, arrows=True, arrowstyle='-|>', style=':')\n",
        "plt.show()"
      ],
      "metadata": {
        "colab": {
          "base_uri": "https://localhost:8080/",
          "height": 248
        },
        "id": "Sd8B36BYdYTo",
        "outputId": "b1c5253c-4a69-4dc0-ea69-e150d94a11f2"
      },
      "execution_count": null,
      "outputs": [
        {
          "output_type": "display_data",
          "data": {
            "text/plain": [
              "<Figure size 432x288 with 1 Axes>"
            ],
            "image/png": "[encoded data removed]"
          },
          "metadata": {}
        }
      ]
    },
    {
      "cell_type": "markdown",
      "source": [
        "Abaixo as Redes de Passes de ambos os times sobrepostas"
      ],
      "metadata": {
        "id": "fTcl1IOQXyl3"
      }
    },
    {
      "cell_type": "code",
      "source": [
        "img = plt.imread(\"image_pitch.png\")\n",
        "fig, ax = plt.subplots()\n",
        "ax.imshow(img, extent=[0, 120, -0, 80])\n",
        "pos = nx.spring_layout(alaves_net)\n",
        "weights = [x / 40 for x in list(nx.get_edge_attributes(barca_net,'weight').values())]\n",
        "nx.draw(barca_net, nx.get_node_attributes(barca_net, 'pos'), with_labels=False,\n",
        "        node_size=90,width=weights, arrows=True, arrowstyle='-|>', style=':',\n",
        "        node_color='b', edge_color='b')\n",
        "weights = [x / 40 for x in list(nx.get_edge_attributes(alaves_net,'weight').values())]\n",
        "nx.draw(alaves_net, nx.get_node_attributes(alaves_net, 'pos'), with_labels=False,\n",
        "        node_size=90,width=weights, arrows=True, arrowstyle='-|>', style=':',\n",
        "        node_color='r', edge_color='r')\n",
        "plt.show()"
      ],
      "metadata": {
        "colab": {
          "base_uri": "https://localhost:8080/",
          "height": 248
        },
        "id": "-7-0G8u0ZFQP",
        "outputId": "44a010bc-4af2-439f-e6bb-b9141efa1ee6"
      },
      "execution_count": null,
      "outputs": [
        {
          "output_type": "display_data",
          "data": {
            "text/plain": [
              "<Figure size 432x288 with 1 Axes>"
            ],
            "image/png": "[encoded data removed]"
          },
          "metadata": {}
        }
      ]
    },
    {
      "cell_type": "markdown",
      "source": [
        "## Aplicação do Algoritmo para caminho mais curto"
      ],
      "metadata": {
        "id": "f81vH-0h6Om2"
      }
    },
    {
      "cell_type": "markdown",
      "source": [
        "### Funções Auxiliares"
      ],
      "metadata": {
        "id": "zKeH8771X8cy"
      }
    },
    {
      "cell_type": "code",
      "source": [
        "def return_successors(players_names, mat_adjac, player):\n",
        "  succ = []\n",
        "  for i in range (len(mat_adjac[players_names.index(player)])):\n",
        "    if mat_adjac[players_names.index(player)][i]>0:\n",
        "      succ.append(players_names[i])\n",
        "  return succ"
      ],
      "metadata": {
        "id": "y8qCR01B2iAG"
      },
      "execution_count": null,
      "outputs": []
    },
    {
      "cell_type": "code",
      "source": [
        "def get_edge_weight(p1_name, p2_name, mat_adjac, players_names):\n",
        "  dist = 90/mat_adjac[players_names.index(p1_name)][players_names.index(p2_name)]\n",
        "  return dist"
      ],
      "metadata": {
        "id": "IuKJb5f040Ed"
      },
      "execution_count": null,
      "outputs": []
    },
    {
      "cell_type": "code",
      "source": [
        "def get_v_minimo(fila_jogadores, distancia_dict):\n",
        "  menor = 91\n",
        "  jogador_m = None\n",
        "  for jogador, dist in distancia_dict.items():\n",
        "    if (menor > dist and jogador in fila_jogadores):\n",
        "      menor = dist\n",
        "      jogador_m = jogador\n",
        "  return jogador_m"
      ],
      "metadata": {
        "id": "UbctPeKA-bZX"
      },
      "execution_count": null,
      "outputs": []
    },
    {
      "cell_type": "code",
      "source": [
        "def plot_caminho(localizacao, caminho, players_names, mat_adjac):\n",
        "  caminho_net = nx.DiGraph()\n",
        "  for player, position in localizacao.items():\n",
        "    if player in caminho:\n",
        "      caminho_net.add_node(player, pos=position)\n",
        "  for i in range(len(caminho)):\n",
        "    if(i==len(caminho)-1):\n",
        "      break\n",
        "    peso = 90/mat_adjac[players_names.index(caminho[i])][players_names.index(caminho[i+1])]\n",
        "    caminho_net.add_weighted_edges_from([(caminho[i], caminho[i+1], peso)])\n",
        "  img = plt.imread(\"image_pitch.png\")\n",
        "  fig, ax = plt.subplots()\n",
        "  ax.imshow(img, extent=[0, 120, -0, 80])\n",
        "  pos = nx.spring_layout(caminho_net)\n",
        "  weights = [x/10 for x in list(nx.get_edge_attributes(caminho_net,'weight').values())]\n",
        "  nx.draw(caminho_net, nx.get_node_attributes(caminho_net, 'pos'), with_labels=True,\n",
        "          node_size=70,width=weights, arrows=True, arrowstyle='-|>', style=':')\n",
        "  plt.show()"
      ],
      "metadata": {
        "id": "50Tgz6yIiuSG"
      },
      "execution_count": null,
      "outputs": []
    },
    {
      "cell_type": "code",
      "source": [
        "def write_in_file(arquivo_teste, caminho, tempo):\n",
        "  f = open(\"output.txt\", \"w\")\n",
        "  f.write(arquivo_teste)\n",
        "  f.write(caminho)\n",
        "  f.write(tempo)\n",
        "  f.close()\n"
      ],
      "metadata": {
        "id": "QfM4IiBV1ctp"
      },
      "execution_count": null,
      "outputs": []
    },
    {
      "cell_type": "markdown",
      "source": [
        "### Função para aplicação o algoritmo de Dijkstra"
      ],
      "metadata": {
        "id": "ZZDVq6A1YA4R"
      }
    },
    {
      "cell_type": "code",
      "source": [
        "def dijkstra(players_names, mat_adjac, nome_goleiro, nome_atacante):\n",
        "  distancia = {}\n",
        "  anterior = {}\n",
        "  fila_jogadores = []\n",
        "  for nome in players_names:\n",
        "    distancia[nome] = 91\n",
        "    anterior[nome] = None\n",
        "    fila_jogadores.append(nome)\n",
        "  \n",
        "  distancia[nome_goleiro] = 0\n",
        "  anterior[nome_goleiro] = 0\n",
        "\n",
        "  while (fila_jogadores):\n",
        "    v_minimo = get_v_minimo(fila_jogadores, distancia)\n",
        "\n",
        "    if v_minimo == nome_atacante:\n",
        "      caminho = []\n",
        "      while (v_minimo != nome_goleiro):\n",
        "        caminho.append(v_minimo)\n",
        "        v_minimo = anterior[v_minimo]\n",
        "      caminho.append(v_minimo)\n",
        "      return caminho[::-1]\n",
        "\n",
        "    fila_jogadores.remove(v_minimo)\n",
        "    for jogador in return_successors(players_names, mat_adjac, v_minimo):\n",
        "      if (jogador in fila_jogadores):\n",
        "        dist_caminho = (distancia[v_minimo] +\n",
        "                        get_edge_weight(v_minimo, jogador, mat_adjac,\n",
        "                                        players_names))\n",
        "        if (dist_caminho < distancia[jogador]):\n",
        "          distancia[jogador] = dist_caminho\n",
        "          anterior[jogador] = v_minimo\n",
        "    "
      ],
      "metadata": {
        "id": "sYUFLBO3E_uN"
      },
      "execution_count": null,
      "outputs": []
    },
    {
      "cell_type": "markdown",
      "source": [
        "### Uso da função do algoritmo"
      ],
      "metadata": {
        "id": "3RiPBDhEd7o9"
      }
    },
    {
      "cell_type": "markdown",
      "source": [
        "As listas impressas abaixo servem para auxiliar a escolha dos jogadores para análise"
      ],
      "metadata": {
        "id": "pfqrNhLQeCFo"
      }
    },
    {
      "cell_type": "code",
      "source": [
        "print(barcelona_players)\n",
        "print(alaves_players)"
      ],
      "metadata": {
        "colab": {
          "base_uri": "https://localhost:8080/"
        },
        "id": "Jp2eDDFdeTK_",
        "outputId": "4664476a-8a18-4ee4-bd6c-0578fa2ca576"
      },
      "execution_count": null,
      "outputs": [
        {
          "output_type": "stream",
          "name": "stdout",
          "text": [
            "['Stegen', 'Semedo', 'Bernabéu', 'Umtiti', 'Ramos', 'Carnicer', 'Burgos', 'Rakitić', 'Dembélé', 'Díaz', 'Cuccittini']\n",
            "['Flores', 'Padilla', 'Cisneros', 'Loaysa', 'Sánchez', 'Rojas', 'Pérez', 'Wakaso', 'Sánchez', 'Menéndez', 'Pozuelo']\n"
          ]
        }
      ]
    },
    {
      "cell_type": "code",
      "source": [
        "time_esc = int(input(\"Selecione qual dos times deseja analisar (1- Time da casa; 2- Time de Fora): \"))\n",
        "source = input(\"Digite o nome do ponto inicial: \")\n",
        "target = input(\"Digite o nome do ponto final: \")\n",
        "\n",
        "if time_esc == 1:\n",
        "  if (source not in barcelona_players) or (target not in barcelona_players):\n",
        "    print(\"Por favor digite parâmetros válidos!\")\n",
        "  else:\n",
        "    print(\"O caminho mais curto é:\")\n",
        "    start_time = time_lib.time()\n",
        "    caminho_mais_curto = dijkstra(barcelona_players, mat_adjac_bar,\n",
        "                                  source, target)\n",
        "    end_time = time_lib.time()\n",
        "    print(caminho_mais_curto)\n",
        "    write_in_file(url,caminho_mais_curto,end_time-start_time)\n",
        "    print(\"--- %s seconds ---\" % (end_time - start_time))\n",
        "    plot_caminho(barca_avg_location, caminho_mais_curto, barcelona_players, mat_adjac_bar)\n",
        "    print(\"Arquivo de saída: 'output.txt'\")\n",
        "else:\n",
        "  if time_esc == 2:\n",
        "    if (source not in alaves_players) or (target not in alaves_players):\n",
        "      print(\"Por favor digite parâmetros válidos!\")\n",
        "    else:\n",
        "      print(\"O caminho mais curto é:\")\n",
        "      start_time = time_lib.time()\n",
        "      caminho_mais_curto = dijkstra(alaves_players, mat_adjac_ala,\n",
        "                                    source, target)\n",
        "      end_time = time_lib.time()\n",
        "      print(caminho_mais_curto)\n",
        "      write_in_file(url,str(caminho_mais_curto),str(end_time-start_time))\n",
        "      print(\"--- %s seconds ---\" % (end_time - start_time))\n",
        "      plot_caminho(alaves_avg_location, caminho_mais_curto, alaves_players, mat_adjac_ala)\n",
        "      print(\"Arquivo de saída: 'output.txt'\")\n",
        "  else:\n",
        "    print(\"Por favor digite parâmetros válidos!\")\n"
      ],
      "metadata": {
        "colab": {
          "base_uri": "https://localhost:8080/",
          "height": 376
        },
        "id": "HLoRuthNYJy3",
        "outputId": "6f3d7355-5bb3-477b-b5f9-ada43b742a92"
      },
      "execution_count": null,
      "outputs": [
        {
          "output_type": "stream",
          "name": "stdout",
          "text": [
            "Selecione qual dos times deseja analisar (1- Time da casa; 2- Time de Fora): 2\n",
            "Digite o nome do ponto inicial: Flores\n",
            "Digite o nome do ponto final: Wakaso\n",
            "O caminho mais curto é:\n",
            "['Flores', 'Sánchez', 'Pozuelo', 'Wakaso']\n",
            "--- 0.0002803802490234375 seconds ---\n"
          ]
        },
        {
          "output_type": "display_data",
          "data": {
            "text/plain": [
              "<Figure size 432x288 with 1 Axes>"
            ],
            "image/png": "[encoded data removed]"
          },
          "metadata": {}
        },
        {
          "output_type": "stream",
          "name": "stdout",
          "text": [
            "Arquivo de saída: 'output.txt'\n"
          ]
        }
      ]
    },
    {
      "cell_type": "markdown",
      "source": [
        "## Testes em Massa"
      ],
      "metadata": {
        "id": "iKt-cr-DvAr2"
      }
    },
    {
      "cell_type": "code",
      "source": [
        "numeracao_arquivos_teste = ['15946','15956','15973','15978','15986','15998',\n",
        "                            '16010','16023','16029','16056','16073','16079',\n",
        "                            '16086','16095','16109','16120','16131','16136',\n",
        "                            '16149','16157','16173','16182','16190','16196']"
      ],
      "metadata": {
        "id": "1FYthXCevHNj"
      },
      "execution_count": null,
      "outputs": []
    },
    {
      "cell_type": "code",
      "source": [
        "def get_list_players(list_players):\n",
        "  players = []\n",
        "  for player_data in list_players:\n",
        "      players.append((player_data['player']['name']).split()[-1])\n",
        "  return players"
      ],
      "metadata": {
        "id": "M_hjlSuhqZew"
      },
      "execution_count": null,
      "outputs": []
    },
    {
      "cell_type": "code",
      "source": [
        "id_casos_teste = []\n",
        "caminhos = []\n",
        "equipes = []\n",
        "tempo_execucao_total = []\n",
        "tempo_execucao_dijkstra = []\n",
        "for numeracao in numeracao_arquivos_teste:\n",
        "  start_downloads = time_lib.time()\n",
        "  url = \"https://raw.githubusercontent.com/statsbomb/open-data/master/data/events/\"+numeracao+\".json\"\n",
        "  wget.download(url, 'teste.json')\n",
        "  with open('teste.json','r') as g:\n",
        "    data = json.load(g)\n",
        "\n",
        "  df_nested = pd.json_normalize(data, max_level=2)\n",
        "  df_starting = df_nested[:2]\n",
        "  df_sliced = df_starting[['team.name', 'tactics.formation', 'tactics.lineup']]\n",
        "  end_downloads = time_lib.time()\n",
        "  for i in range(2):\n",
        "    start_tratamento = time_lib.time()\n",
        "    if(i==0):\n",
        "      list_players = df_sliced.iat[0,2]\n",
        "    else:\n",
        "      list_players = df_sliced.iat[1,2]\n",
        "    barcelona_players = get_list_players(list_players)\n",
        "    df_pass = df_nested[df_nested[\"pass.recipient.name\"].notna()]\n",
        "    df_pass = df_pass[['player.name','pass.recipient.name']]\n",
        "\n",
        "    mat_adjac_bar = []\n",
        "    for p1 in range (len(barcelona_players)):\n",
        "      aux = []\n",
        "      for p2 in range (len(barcelona_players)):\n",
        "        subset = df_pass[(df_pass['player.name'].str.split().str[-1] == barcelona_players[p1]) &\n",
        "                        (df_pass['pass.recipient.name'].str.split().str[-1] == barcelona_players[p2])]\n",
        "        aux.append(subset['player.name'].count())\n",
        "      mat_adjac_bar.append(aux)\n",
        "    df_location = df_nested[df_nested[\"location\"].notna()]\n",
        "    df_location = df_location[['location','player.name']]\n",
        "    barca_avg_location = {}\n",
        "    for player in barcelona_players:\n",
        "      player_interactions = df_location.loc[df_location[\"player.name\"].str.split().str[-1] == player]\n",
        "      locations = player_interactions[\"location\"].values\n",
        "      x_avg = 0\n",
        "      y_avg = 0\n",
        "      for location in locations:\n",
        "        x = location[0]\n",
        "        y = location[1]\n",
        "        x_avg += x\n",
        "        y_avg += y\n",
        "      x_avg = x_avg / len(locations)\n",
        "      y_avg = y_avg / len(locations)\n",
        "    barca_avg_location[player] = [x_avg, 80-y_avg]\n",
        "    end_tratamento = time_lib.time()\n",
        "    start_dijkstra = time_lib.time()\n",
        "    caminho_mais_curto = dijkstra(barcelona_players, mat_adjac_bar,\n",
        "                                  barcelona_players[0], barcelona_players[len(barcelona_players)-1])\n",
        "    end_dijkstra = time_lib.time()\n",
        "    id_casos_teste.append(numeracao)\n",
        "    caminhos.append(caminho_mais_curto)\n",
        "    tempo_total = -start_downloads + end_downloads - start_tratamento + end_tratamento - start_dijkstra + end_dijkstra\n",
        "    tempo_execucao_total.append(tempo_total)\n",
        "    tempo_execucao_dijkstra.append(-start_dijkstra+end_dijkstra)\n",
        "    equipes.append(i)\n",
        "    print(caminho_mais_curto)\n",
        "  os.remove('teste.json')\n",
        "    "
      ],
      "metadata": {
        "colab": {
          "base_uri": "https://localhost:8080/"
        },
        "id": "XMTa8WFBwLgT",
        "outputId": "671dda69-54a8-4254-acf1-23bab185a675"
      },
      "execution_count": null,
      "outputs": [
        {
          "output_type": "stream",
          "name": "stdout",
          "text": [
            "['Stegen', 'Bernabéu', 'Carnicer', 'Cuccittini']\n",
            "['Flores', 'Sánchez', 'Pozuelo']\n",
            "['López', 'Pedreño']\n",
            "['Stegen', 'Bernabéu', 'Carnicer', 'Cuccittini', 'Díaz']\n",
            "['Stegen', 'Bernabéu', 'Carnicer', 'Díaz']\n",
            "['Werner', 'Longo']\n",
            "['Rulli', 'López']\n",
            "['Stegen', 'Ramos', 'Díaz']\n",
            "['Stegen', 'Bernabéu', 'Díaz']\n",
            "['Bounou', 'López', 'Curbelo']\n",
            "['Sacristán', 'En-Nesyri']\n",
            "['Stegen', 'Bernabéu', 'Carnicer', 'Mohamed']\n",
            "['Stegen', 'Rakitić', 'Díaz']\n",
            "['Mendibil', 'Escudero', 'Arthuer']\n",
            "['Neto', 'Gameiro']\n",
            "['Stegen', 'Vermaelen', 'Ramos', 'Díaz']\n",
            "['Stegen', 'Díaz']\n",
            "['Vaclík', 'Silva', 'Yedder']\n",
            "['Stegen', 'Díaz']\n",
            "['Sabata', 'Rodríguez']\n",
            "['Oblak', 'Costa']\n",
            "['Stegen', 'Umtiti', 'Ramos', 'Díaz']\n",
            "['Stegen', 'Semedo', 'Dembélé', 'Cuccittini']\n",
            "['Andrés', 'Martínez', 'Balaguero']\n",
            "['Rodríguez', 'Junqué', 'Mata', 'Quintas']\n",
            "['Stegen', 'Semedo', 'Díaz']\n",
            "['Paredes', 'Nogales', 'Salgueiro', 'Boateng']\n",
            "['Stegen', 'Dembélé', 'Cuccittini']\n",
            "['Stegen', 'Semedo', 'Rakitić', 'Díaz']\n",
            "['Veiga', 'González']\n",
            "['Solís', 'Arnaiz']\n",
            "['Stegen', 'Lenglet', 'Ramos', 'Díaz']\n",
            "['Stegen', 'Ramos', 'Díaz']\n",
            "['Unamuno', 'Ametller']\n",
            "['Stegen', 'Ramos', 'Díaz']\n",
            "['Sacristán', 'Christensen']\n",
            "['Bounou', 'Curbelo']\n",
            "['Stegen', 'Díaz']\n",
            "['Stegen', 'Vermaelen', 'Carnicer', 'Díaz']\n",
            "['Neto', 'Gameiro']\n",
            "['Buisán', 'Arthuer']\n",
            "['Stegen', 'Díaz']\n",
            "['Stegen', 'Bernabéu', 'Carnicer', 'Boateng']\n",
            "['López', 'Navarro']\n",
            "['Vaclík', 'González', 'Yedder']\n",
            "['Stegen', 'Bernabéu', 'Díaz']\n",
            "['Courtois', 'Benzema']\n",
            "['Stegen', 'Díaz']\n"
          ]
        }
      ]
    },
    {
      "cell_type": "code",
      "source": [
        "dados_teste = {'Ids Arquivos de Teste': id_casos_teste,\n",
        "               'Caminho Mais Curto': caminhos, 'Equipe': equipes, 'Tempo Total': tempo_execucao_total,\n",
        "               'Tempo Dijkstra': tempo_execucao_dijkstra}\n",
        "\n",
        "df_resultados_testes = pd.DataFrame.from_dict(dados_teste)\n",
        "pd.set_option('display.float_format', '{:.2E}'.format)\n",
        "df_resultados_testes.head(26)"
      ],
      "metadata": {
        "colab": {
          "base_uri": "https://localhost:8080/",
          "height": 864
        },
        "id": "zVkk5KzJu00x",
        "outputId": "3bc117fc-22c8-45c3-df6b-73646d09e3b0"
      },
      "execution_count": null,
      "outputs": [
        {
          "output_type": "execute_result",
          "data": {
            "text/plain": [
              "   Ids Arquivos de Teste                              Caminho Mais Curto  \\\n",
              "0                  15946        [Stegen, Bernabéu, Carnicer, Cuccittini]   \n",
              "1                  15946                      [Flores, Sánchez, Pozuelo]   \n",
              "2                  15956                                [López, Pedreño]   \n",
              "3                  15956  [Stegen, Bernabéu, Carnicer, Cuccittini, Díaz]   \n",
              "4                  15973              [Stegen, Bernabéu, Carnicer, Díaz]   \n",
              "5                  15973                                 [Werner, Longo]   \n",
              "6                  15978                                  [Rulli, López]   \n",
              "7                  15978                           [Stegen, Ramos, Díaz]   \n",
              "8                  15986                        [Stegen, Bernabéu, Díaz]   \n",
              "9                  15986                        [Bounou, López, Curbelo]   \n",
              "10                 15998                          [Sacristán, En-Nesyri]   \n",
              "11                 15998           [Stegen, Bernabéu, Carnicer, Mohamed]   \n",
              "12                 16010                         [Stegen, Rakitić, Díaz]   \n",
              "13                 16010                   [Mendibil, Escudero, Arthuer]   \n",
              "14                 16023                                 [Neto, Gameiro]   \n",
              "15                 16023                [Stegen, Vermaelen, Ramos, Díaz]   \n",
              "16                 16029                                  [Stegen, Díaz]   \n",
              "17                 16029                         [Vaclík, Silva, Yedder]   \n",
              "18                 16056                                  [Stegen, Díaz]   \n",
              "19                 16056                             [Sabata, Rodríguez]   \n",
              "20                 16073                                  [Oblak, Costa]   \n",
              "21                 16073                   [Stegen, Umtiti, Ramos, Díaz]   \n",
              "22                 16079           [Stegen, Semedo, Dembélé, Cuccittini]   \n",
              "23                 16079                   [Andrés, Martínez, Balaguero]   \n",
              "24                 16086              [Rodríguez, Junqué, Mata, Quintas]   \n",
              "25                 16086                          [Stegen, Semedo, Díaz]   \n",
              "\n",
              "    Equipe  Tempo Total  Tempo Dijkstra  \n",
              "0        0     1.93E+00        1.80E-04  \n",
              "1        1     2.95E+00        1.02E-04  \n",
              "2        0     2.50E+00        9.42E-05  \n",
              "3        1     2.50E+00        2.11E-04  \n",
              "4        0     3.78E+00        2.01E-04  \n",
              "5        1     4.19E+00        7.72E-05  \n",
              "6        0     2.58E+00        9.49E-05  \n",
              "7        1     2.50E+00        2.03E-04  \n",
              "8        0     2.97E+00        1.74E-04  \n",
              "9        1     2.78E+00        8.99E-05  \n",
              "10       0     2.27E+00        6.32E-05  \n",
              "11       1     2.25E+00        2.03E-04  \n",
              "12       0     2.12E+00        2.31E-04  \n",
              "13       1     2.27E+00        8.65E-05  \n",
              "14       0     2.72E+00        1.07E-04  \n",
              "15       1     2.63E+00        1.98E-04  \n",
              "16       0     2.10E+00        9.63E-05  \n",
              "17       1     2.08E+00        9.49E-05  \n",
              "18       0     2.56E+00        5.65E-05  \n",
              "19       1     2.66E+00        9.73E-05  \n",
              "20       0     2.25E+00        5.53E-05  \n",
              "21       1     2.33E+00        1.96E-04  \n",
              "22       0     4.30E+00        1.60E-04  \n",
              "23       1     4.31E+00        1.71E-04  \n",
              "24       0     2.76E+00        1.96E-04  \n",
              "25       1     2.45E+00        1.89E-04  "
            ],
            "text/html": [
              "\n",
              "  <div id=\"df-e7d6ba04-6fb7-4fec-afde-466fb8fbb7db\">\n",
              "    <div class=\"colab-df-container\">\n",
              "      <div>\n",
              "<style scoped>\n",
              "    .dataframe tbody tr th:only-of-type {\n",
              "        vertical-align: middle;\n",
              "    }\n",
              "\n",
              "    .dataframe tbody tr th {\n",
              "        vertical-align: top;\n",
              "    }\n",
              "\n",
              "    .dataframe thead th {\n",
              "        text-align: right;\n",
              "    }\n",
              "</style>\n",
              "<table border=\"1\" class=\"dataframe\">\n",
              "  <thead>\n",
              "    <tr style=\"text-align: right;\">\n",
              "      <th></th>\n",
              "      <th>Ids Arquivos de Teste</th>\n",
              "      <th>Caminho Mais Curto</th>\n",
              "      <th>Equipe</th>\n",
              "      <th>Tempo Total</th>\n",
              "      <th>Tempo Dijkstra</th>\n",
              "    </tr>\n",
              "  </thead>\n",
              "  <tbody>\n",
              "    <tr>\n",
              "      <th>0</th>\n",
              "      <td>15946</td>\n",
              "      <td>[Stegen, Bernabéu, Carnicer, Cuccittini]</td>\n",
              "      <td>0</td>\n",
              "      <td>1.93E+00</td>\n",
              "      <td>1.80E-04</td>\n",
              "    </tr>\n",
              "    <tr>\n",
              "      <th>1</th>\n",
              "      <td>15946</td>\n",
              "      <td>[Flores, Sánchez, Pozuelo]</td>\n",
              "      <td>1</td>\n",
              "      <td>2.95E+00</td>\n",
              "      <td>1.02E-04</td>\n",
              "    </tr>\n",
              "    <tr>\n",
              "      <th>2</th>\n",
              "      <td>15956</td>\n",
              "      <td>[López, Pedreño]</td>\n",
              "      <td>0</td>\n",
              "      <td>2.50E+00</td>\n",
              "      <td>9.42E-05</td>\n",
              "    </tr>\n",
              "    <tr>\n",
              "      <th>3</th>\n",
              "      <td>15956</td>\n",
              "      <td>[Stegen, Bernabéu, Carnicer, Cuccittini, Díaz]</td>\n",
              "      <td>1</td>\n",
              "      <td>2.50E+00</td>\n",
              "      <td>2.11E-04</td>\n",
              "    </tr>\n",
              "    <tr>\n",
              "      <th>4</th>\n",
              "      <td>15973</td>\n",
              "      <td>[Stegen, Bernabéu, Carnicer, Díaz]</td>\n",
              "      <td>0</td>\n",
              "      <td>3.78E+00</td>\n",
              "      <td>2.01E-04</td>\n",
              "    </tr>\n",
              "    <tr>\n",
              "      <th>5</th>\n",
              "      <td>15973</td>\n",
              "      <td>[Werner, Longo]</td>\n",
              "      <td>1</td>\n",
              "      <td>4.19E+00</td>\n",
              "      <td>7.72E-05</td>\n",
              "    </tr>\n",
              "    <tr>\n",
              "      <th>6</th>\n",
              "      <td>15978</td>\n",
              "      <td>[Rulli, López]</td>\n",
              "      <td>0</td>\n",
              "      <td>2.58E+00</td>\n",
              "      <td>9.49E-05</td>\n",
              "    </tr>\n",
              "    <tr>\n",
              "      <th>7</th>\n",
              "      <td>15978</td>\n",
              "      <td>[Stegen, Ramos, Díaz]</td>\n",
              "      <td>1</td>\n",
              "      <td>2.50E+00</td>\n",
              "      <td>2.03E-04</td>\n",
              "    </tr>\n",
              "    <tr>\n",
              "      <th>8</th>\n",
              "      <td>15986</td>\n",
              "      <td>[Stegen, Bernabéu, Díaz]</td>\n",
              "      <td>0</td>\n",
              "      <td>2.97E+00</td>\n",
              "      <td>1.74E-04</td>\n",
              "    </tr>\n",
              "    <tr>\n",
              "      <th>9</th>\n",
              "      <td>15986</td>\n",
              "      <td>[Bounou, López, Curbelo]</td>\n",
              "      <td>1</td>\n",
              "      <td>2.78E+00</td>\n",
              "      <td>8.99E-05</td>\n",
              "    </tr>\n",
              "    <tr>\n",
              "      <th>10</th>\n",
              "      <td>15998</td>\n",
              "      <td>[Sacristán, En-Nesyri]</td>\n",
              "      <td>0</td>\n",
              "      <td>2.27E+00</td>\n",
              "      <td>6.32E-05</td>\n",
              "    </tr>\n",
              "    <tr>\n",
              "      <th>11</th>\n",
              "      <td>15998</td>\n",
              "      <td>[Stegen, Bernabéu, Carnicer, Mohamed]</td>\n",
              "      <td>1</td>\n",
              "      <td>2.25E+00</td>\n",
              "      <td>2.03E-04</td>\n",
              "    </tr>\n",
              "    <tr>\n",
              "      <th>12</th>\n",
              "      <td>16010</td>\n",
              "      <td>[Stegen, Rakitić, Díaz]</td>\n",
              "      <td>0</td>\n",
              "      <td>2.12E+00</td>\n",
              "      <td>2.31E-04</td>\n",
              "    </tr>\n",
              "    <tr>\n",
              "      <th>13</th>\n",
              "      <td>16010</td>\n",
              "      <td>[Mendibil, Escudero, Arthuer]</td>\n",
              "      <td>1</td>\n",
              "      <td>2.27E+00</td>\n",
              "      <td>8.65E-05</td>\n",
              "    </tr>\n",
              "    <tr>\n",
              "      <th>14</th>\n",
              "      <td>16023</td>\n",
              "      <td>[Neto, Gameiro]</td>\n",
              "      <td>0</td>\n",
              "      <td>2.72E+00</td>\n",
              "      <td>1.07E-04</td>\n",
              "    </tr>\n",
              "    <tr>\n",
              "      <th>15</th>\n",
              "      <td>16023</td>\n",
              "      <td>[Stegen, Vermaelen, Ramos, Díaz]</td>\n",
              "      <td>1</td>\n",
              "      <td>2.63E+00</td>\n",
              "      <td>1.98E-04</td>\n",
              "    </tr>\n",
              "    <tr>\n",
              "      <th>16</th>\n",
              "      <td>16029</td>\n",
              "      <td>[Stegen, Díaz]</td>\n",
              "      <td>0</td>\n",
              "      <td>2.10E+00</td>\n",
              "      <td>9.63E-05</td>\n",
              "    </tr>\n",
              "    <tr>\n",
              "      <th>17</th>\n",
              "      <td>16029</td>\n",
              "      <td>[Vaclík, Silva, Yedder]</td>\n",
              "      <td>1</td>\n",
              "      <td>2.08E+00</td>\n",
              "      <td>9.49E-05</td>\n",
              "    </tr>\n",
              "    <tr>\n",
              "      <th>18</th>\n",
              "      <td>16056</td>\n",
              "      <td>[Stegen, Díaz]</td>\n",
              "      <td>0</td>\n",
              "      <td>2.56E+00</td>\n",
              "      <td>5.65E-05</td>\n",
              "    </tr>\n",
              "    <tr>\n",
              "      <th>19</th>\n",
              "      <td>16056</td>\n",
              "      <td>[Sabata, Rodríguez]</td>\n",
              "      <td>1</td>\n",
              "      <td>2.66E+00</td>\n",
              "      <td>9.73E-05</td>\n",
              "    </tr>\n",
              "    <tr>\n",
              "      <th>20</th>\n",
              "      <td>16073</td>\n",
              "      <td>[Oblak, Costa]</td>\n",
              "      <td>0</td>\n",
              "      <td>2.25E+00</td>\n",
              "      <td>5.53E-05</td>\n",
              "    </tr>\n",
              "    <tr>\n",
              "      <th>21</th>\n",
              "      <td>16073</td>\n",
              "      <td>[Stegen, Umtiti, Ramos, Díaz]</td>\n",
              "      <td>1</td>\n",
              "      <td>2.33E+00</td>\n",
              "      <td>1.96E-04</td>\n",
              "    </tr>\n",
              "    <tr>\n",
              "      <th>22</th>\n",
              "      <td>16079</td>\n",
              "      <td>[Stegen, Semedo, Dembélé, Cuccittini]</td>\n",
              "      <td>0</td>\n",
              "      <td>4.30E+00</td>\n",
              "      <td>1.60E-04</td>\n",
              "    </tr>\n",
              "    <tr>\n",
              "      <th>23</th>\n",
              "      <td>16079</td>\n",
              "      <td>[Andrés, Martínez, Balaguero]</td>\n",
              "      <td>1</td>\n",
              "      <td>4.31E+00</td>\n",
              "      <td>1.71E-04</td>\n",
              "    </tr>\n",
              "    <tr>\n",
              "      <th>24</th>\n",
              "      <td>16086</td>\n",
              "      <td>[Rodríguez, Junqué, Mata, Quintas]</td>\n",
              "      <td>0</td>\n",
              "      <td>2.76E+00</td>\n",
              "      <td>1.96E-04</td>\n",
              "    </tr>\n",
              "    <tr>\n",
              "      <th>25</th>\n",
              "      <td>16086</td>\n",
              "      <td>[Stegen, Semedo, Díaz]</td>\n",
              "      <td>1</td>\n",
              "      <td>2.45E+00</td>\n",
              "      <td>1.89E-04</td>\n",
              "    </tr>\n",
              "  </tbody>\n",
              "</table>\n",
              "</div>\n",
              "      <button class=\"colab-df-convert\" onclick=\"convertToInteractive('df-e7d6ba04-6fb7-4fec-afde-466fb8fbb7db')\"\n",
              "              title=\"Convert this dataframe to an interactive table.\"\n",
              "              style=\"display:none;\">\n",
              "        \n",
              "  <svg xmlns=\"http://www.w3.org/2000/svg\" height=\"24px\"viewBox=\"0 0 24 24\"\n",
              "       width=\"24px\">\n",
              "    <path d=\"M0 0h24v24H0V0z\" fill=\"none\"/>\n",
              "    <path d=\"M18.56 5.44l.94 2.06.94-2.06 2.06-.94-2.06-.94-.94-2.06-.94 2.06-2.06.94zm-11 1L8.5 8.5l.94-2.06 2.06-.94-2.06-.94L8.5 2.5l-.94 2.06-2.06.94zm10 10l.94 2.06.94-2.06 2.06-.94-2.06-.94-.94-2.06-.94 2.06-2.06.94z\"/><path d=\"M17.41 7.96l-1.37-1.37c-.4-.4-.92-.59-1.43-.59-.52 0-1.04.2-1.43.59L10.3 9.45l-7.72 7.72c-.78.78-.78 2.05 0 2.83L4 21.41c.39.39.9.59 1.41.59.51 0 1.02-.2 1.41-.59l7.78-7.78 2.81-2.81c.8-.78.8-2.07 0-2.86zM5.41 20L4 18.59l7.72-7.72 1.47 1.35L5.41 20z\"/>\n",
              "  </svg>\n",
              "      </button>\n",
              "      \n",
              "  <style>\n",
              "    .colab-df-container {\n",
              "      display:flex;\n",
              "      flex-wrap:wrap;\n",
              "      gap: 12px;\n",
              "    }\n",
              "\n",
              "    .colab-df-convert {\n",
              "      background-color: #E8F0FE;\n",
              "      border: none;\n",
              "      border-radius: 50%;\n",
              "      cursor: pointer;\n",
              "      display: none;\n",
              "      fill: #1967D2;\n",
              "      height: 32px;\n",
              "      padding: 0 0 0 0;\n",
              "      width: 32px;\n",
              "    }\n",
              "\n",
              "    .colab-df-convert:hover {\n",
              "      background-color: #E2EBFA;\n",
              "      box-shadow: 0px 1px 2px rgba(60, 64, 67, 0.3), 0px 1px 3px 1px rgba(60, 64, 67, 0.15);\n",
              "      fill: #174EA6;\n",
              "    }\n",
              "\n",
              "    [theme=dark] .colab-df-convert {\n",
              "      background-color: #3B4455;\n",
              "      fill: #D2E3FC;\n",
              "    }\n",
              "\n",
              "    [theme=dark] .colab-df-convert:hover {\n",
              "      background-color: #434B5C;\n",
              "      box-shadow: 0px 1px 3px 1px rgba(0, 0, 0, 0.15);\n",
              "      filter: drop-shadow(0px 1px 2px rgba(0, 0, 0, 0.3));\n",
              "      fill: #FFFFFF;\n",
              "    }\n",
              "  </style>\n",
              "\n",
              "      <script>\n",
              "        const buttonEl =\n",
              "          document.querySelector('#df-e7d6ba04-6fb7-4fec-afde-466fb8fbb7db button.colab-df-convert');\n",
              "        buttonEl.style.display =\n",
              "          google.colab.kernel.accessAllowed ? 'block' : 'none';\n",
              "\n",
              "        async function convertToInteractive(key) {\n",
              "          const element = document.querySelector('#df-e7d6ba04-6fb7-4fec-afde-466fb8fbb7db');\n",
              "          const dataTable =\n",
              "            await google.colab.kernel.invokeFunction('convertToInteractive',\n",
              "                                                     [key], {});\n",
              "          if (!dataTable) return;\n",
              "\n",
              "          const docLinkHtml = 'Like what you see? Visit the ' +\n",
              "            '<a target=\"_blank\" href=https://colab.research.google.com/notebooks/data_table.ipynb>data table notebook</a>'\n",
              "            + ' to learn more about interactive tables.';\n",
              "          element.innerHTML = '';\n",
              "          dataTable['output_type'] = 'display_data';\n",
              "          await google.colab.output.renderOutput(dataTable, element);\n",
              "          const docLink = document.createElement('div');\n",
              "          docLink.innerHTML = docLinkHtml;\n",
              "          element.appendChild(docLink);\n",
              "        }\n",
              "      </script>\n",
              "    </div>\n",
              "  </div>\n",
              "  "
            ]
          },
          "metadata": {},
          "execution_count": 54
        }
      ]
    },
    {
      "cell_type": "code",
      "source": [
        "df_resultados_testes"
      ],
      "metadata": {
        "colab": {
          "base_uri": "https://localhost:8080/",
          "height": 1000
        },
        "id": "z8Uq_O5i1rjS",
        "outputId": "719d7b7e-2867-40f7-a55b-179e25fec343"
      },
      "execution_count": null,
      "outputs": [
        {
          "output_type": "execute_result",
          "data": {
            "text/plain": [
              "   Ids Arquivos de Teste                              Caminho Mais Curto  \\\n",
              "0                  15946        [Stegen, Bernabéu, Carnicer, Cuccittini]   \n",
              "1                  15946                      [Flores, Sánchez, Pozuelo]   \n",
              "2                  15956                                [López, Pedreño]   \n",
              "3                  15956  [Stegen, Bernabéu, Carnicer, Cuccittini, Díaz]   \n",
              "4                  15973              [Stegen, Bernabéu, Carnicer, Díaz]   \n",
              "5                  15973                                 [Werner, Longo]   \n",
              "6                  15978                                  [Rulli, López]   \n",
              "7                  15978                           [Stegen, Ramos, Díaz]   \n",
              "8                  15986                        [Stegen, Bernabéu, Díaz]   \n",
              "9                  15986                        [Bounou, López, Curbelo]   \n",
              "10                 15998                          [Sacristán, En-Nesyri]   \n",
              "11                 15998           [Stegen, Bernabéu, Carnicer, Mohamed]   \n",
              "12                 16010                         [Stegen, Rakitić, Díaz]   \n",
              "13                 16010                   [Mendibil, Escudero, Arthuer]   \n",
              "14                 16023                                 [Neto, Gameiro]   \n",
              "15                 16023                [Stegen, Vermaelen, Ramos, Díaz]   \n",
              "16                 16029                                  [Stegen, Díaz]   \n",
              "17                 16029                         [Vaclík, Silva, Yedder]   \n",
              "18                 16056                                  [Stegen, Díaz]   \n",
              "19                 16056                             [Sabata, Rodríguez]   \n",
              "20                 16073                                  [Oblak, Costa]   \n",
              "21                 16073                   [Stegen, Umtiti, Ramos, Díaz]   \n",
              "22                 16079           [Stegen, Semedo, Dembélé, Cuccittini]   \n",
              "23                 16079                   [Andrés, Martínez, Balaguero]   \n",
              "24                 16086              [Rodríguez, Junqué, Mata, Quintas]   \n",
              "25                 16086                          [Stegen, Semedo, Díaz]   \n",
              "26                 16095          [Paredes, Nogales, Salgueiro, Boateng]   \n",
              "27                 16095                   [Stegen, Dembélé, Cuccittini]   \n",
              "28                 16109                 [Stegen, Semedo, Rakitić, Díaz]   \n",
              "29                 16109                               [Veiga, González]   \n",
              "30                 16120                                 [Solís, Arnaiz]   \n",
              "31                 16120                  [Stegen, Lenglet, Ramos, Díaz]   \n",
              "32                 16131                           [Stegen, Ramos, Díaz]   \n",
              "33                 16131                             [Unamuno, Ametller]   \n",
              "34                 16136                           [Stegen, Ramos, Díaz]   \n",
              "35                 16136                        [Sacristán, Christensen]   \n",
              "36                 16149                               [Bounou, Curbelo]   \n",
              "37                 16149                                  [Stegen, Díaz]   \n",
              "38                 16157             [Stegen, Vermaelen, Carnicer, Díaz]   \n",
              "39                 16157                                 [Neto, Gameiro]   \n",
              "40                 16173                               [Buisán, Arthuer]   \n",
              "41                 16173                                  [Stegen, Díaz]   \n",
              "42                 16182           [Stegen, Bernabéu, Carnicer, Boateng]   \n",
              "43                 16182                                [López, Navarro]   \n",
              "44                 16190                      [Vaclík, González, Yedder]   \n",
              "45                 16190                        [Stegen, Bernabéu, Díaz]   \n",
              "46                 16196                             [Courtois, Benzema]   \n",
              "47                 16196                                  [Stegen, Díaz]   \n",
              "\n",
              "    Equipe  Tempo Total  Tempo Dijkstra  \n",
              "0        0     1.93E+00        1.80E-04  \n",
              "1        1     2.95E+00        1.02E-04  \n",
              "2        0     2.50E+00        9.42E-05  \n",
              "3        1     2.50E+00        2.11E-04  \n",
              "4        0     3.78E+00        2.01E-04  \n",
              "5        1     4.19E+00        7.72E-05  \n",
              "6        0     2.58E+00        9.49E-05  \n",
              "7        1     2.50E+00        2.03E-04  \n",
              "8        0     2.97E+00        1.74E-04  \n",
              "9        1     2.78E+00        8.99E-05  \n",
              "10       0     2.27E+00        6.32E-05  \n",
              "11       1     2.25E+00        2.03E-04  \n",
              "12       0     2.12E+00        2.31E-04  \n",
              "13       1     2.27E+00        8.65E-05  \n",
              "14       0     2.72E+00        1.07E-04  \n",
              "15       1     2.63E+00        1.98E-04  \n",
              "16       0     2.10E+00        9.63E-05  \n",
              "17       1     2.08E+00        9.49E-05  \n",
              "18       0     2.56E+00        5.65E-05  \n",
              "19       1     2.66E+00        9.73E-05  \n",
              "20       0     2.25E+00        5.53E-05  \n",
              "21       1     2.33E+00        1.96E-04  \n",
              "22       0     4.30E+00        1.60E-04  \n",
              "23       1     4.31E+00        1.71E-04  \n",
              "24       0     2.76E+00        1.96E-04  \n",
              "25       1     2.45E+00        1.89E-04  \n",
              "26       0     2.22E+00        1.90E-04  \n",
              "27       1     2.25E+00        1.80E-04  \n",
              "28       0     2.64E+00        1.84E-04  \n",
              "29       1     2.39E+00        1.63E-04  \n",
              "30       0     2.59E+00        5.22E-05  \n",
              "31       1     2.58E+00        2.01E-04  \n",
              "32       0     2.51E+00        1.87E-04  \n",
              "33       1     2.59E+00        7.56E-05  \n",
              "34       0     2.40E+00        2.00E-04  \n",
              "35       1     2.26E+00        7.58E-05  \n",
              "36       0     2.34E+00        1.39E-04  \n",
              "37       1     2.31E+00        5.58E-05  \n",
              "38       0     2.54E+00        2.03E-04  \n",
              "39       1     2.66E+00        1.61E-04  \n",
              "40       0     3.73E+00        8.96E-05  \n",
              "41       1     3.80E+00        1.79E-04  \n",
              "42       0     2.64E+00        2.08E-04  \n",
              "43       1     2.69E+00        1.71E-04  \n",
              "44       0     3.61E+00        1.10E-04  \n",
              "45       1     3.59E+00        3.14E-04  \n",
              "46       0     2.57E+00        2.15E-04  \n",
              "47       1     2.57E+00        5.36E-05  "
            ],
            "text/html": [
              "\n",
              "  <div id=\"df-006a61ff-477c-4cf9-a948-d06ab8397067\">\n",
              "    <div class=\"colab-df-container\">\n",
              "      <div>\n",
              "<style scoped>\n",
              "    .dataframe tbody tr th:only-of-type {\n",
              "        vertical-align: middle;\n",
              "    }\n",
              "\n",
              "    .dataframe tbody tr th {\n",
              "        vertical-align: top;\n",
              "    }\n",
              "\n",
              "    .dataframe thead th {\n",
              "        text-align: right;\n",
              "    }\n",
              "</style>\n",
              "<table border=\"1\" class=\"dataframe\">\n",
              "  <thead>\n",
              "    <tr style=\"text-align: right;\">\n",
              "      <th></th>\n",
              "      <th>Ids Arquivos de Teste</th>\n",
              "      <th>Caminho Mais Curto</th>\n",
              "      <th>Equipe</th>\n",
              "      <th>Tempo Total</th>\n",
              "      <th>Tempo Dijkstra</th>\n",
              "    </tr>\n",
              "  </thead>\n",
              "  <tbody>\n",
              "    <tr>\n",
              "      <th>0</th>\n",
              "      <td>15946</td>\n",
              "      <td>[Stegen, Bernabéu, Carnicer, Cuccittini]</td>\n",
              "      <td>0</td>\n",
              "      <td>1.93E+00</td>\n",
              "      <td>1.80E-04</td>\n",
              "    </tr>\n",
              "    <tr>\n",
              "      <th>1</th>\n",
              "      <td>15946</td>\n",
              "      <td>[Flores, Sánchez, Pozuelo]</td>\n",
              "      <td>1</td>\n",
              "      <td>2.95E+00</td>\n",
              "      <td>1.02E-04</td>\n",
              "    </tr>\n",
              "    <tr>\n",
              "      <th>2</th>\n",
              "      <td>15956</td>\n",
              "      <td>[López, Pedreño]</td>\n",
              "      <td>0</td>\n",
              "      <td>2.50E+00</td>\n",
              "      <td>9.42E-05</td>\n",
              "    </tr>\n",
              "    <tr>\n",
              "      <th>3</th>\n",
              "      <td>15956</td>\n",
              "      <td>[Stegen, Bernabéu, Carnicer, Cuccittini, Díaz]</td>\n",
              "      <td>1</td>\n",
              "      <td>2.50E+00</td>\n",
              "      <td>2.11E-04</td>\n",
              "    </tr>\n",
              "    <tr>\n",
              "      <th>4</th>\n",
              "      <td>15973</td>\n",
              "      <td>[Stegen, Bernabéu, Carnicer, Díaz]</td>\n",
              "      <td>0</td>\n",
              "      <td>3.78E+00</td>\n",
              "      <td>2.01E-04</td>\n",
              "    </tr>\n",
              "    <tr>\n",
              "      <th>5</th>\n",
              "      <td>15973</td>\n",
              "      <td>[Werner, Longo]</td>\n",
              "      <td>1</td>\n",
              "      <td>4.19E+00</td>\n",
              "      <td>7.72E-05</td>\n",
              "    </tr>\n",
              "    <tr>\n",
              "      <th>6</th>\n",
              "      <td>15978</td>\n",
              "      <td>[Rulli, López]</td>\n",
              "      <td>0</td>\n",
              "      <td>2.58E+00</td>\n",
              "      <td>9.49E-05</td>\n",
              "    </tr>\n",
              "    <tr>\n",
              "      <th>7</th>\n",
              "      <td>15978</td>\n",
              "      <td>[Stegen, Ramos, Díaz]</td>\n",
              "      <td>1</td>\n",
              "      <td>2.50E+00</td>\n",
              "      <td>2.03E-04</td>\n",
              "    </tr>\n",
              "    <tr>\n",
              "      <th>8</th>\n",
              "      <td>15986</td>\n",
              "      <td>[Stegen, Bernabéu, Díaz]</td>\n",
              "      <td>0</td>\n",
              "      <td>2.97E+00</td>\n",
              "      <td>1.74E-04</td>\n",
              "    </tr>\n",
              "    <tr>\n",
              "      <th>9</th>\n",
              "      <td>15986</td>\n",
              "      <td>[Bounou, López, Curbelo]</td>\n",
              "      <td>1</td>\n",
              "      <td>2.78E+00</td>\n",
              "      <td>8.99E-05</td>\n",
              "    </tr>\n",
              "    <tr>\n",
              "      <th>10</th>\n",
              "      <td>15998</td>\n",
              "      <td>[Sacristán, En-Nesyri]</td>\n",
              "      <td>0</td>\n",
              "      <td>2.27E+00</td>\n",
              "      <td>6.32E-05</td>\n",
              "    </tr>\n",
              "    <tr>\n",
              "      <th>11</th>\n",
              "      <td>15998</td>\n",
              "      <td>[Stegen, Bernabéu, Carnicer, Mohamed]</td>\n",
              "      <td>1</td>\n",
              "      <td>2.25E+00</td>\n",
              "      <td>2.03E-04</td>\n",
              "    </tr>\n",
              "    <tr>\n",
              "      <th>12</th>\n",
              "      <td>16010</td>\n",
              "      <td>[Stegen, Rakitić, Díaz]</td>\n",
              "      <td>0</td>\n",
              "      <td>2.12E+00</td>\n",
              "      <td>2.31E-04</td>\n",
              "    </tr>\n",
              "    <tr>\n",
              "      <th>13</th>\n",
              "      <td>16010</td>\n",
              "      <td>[Mendibil, Escudero, Arthuer]</td>\n",
              "      <td>1</td>\n",
              "      <td>2.27E+00</td>\n",
              "      <td>8.65E-05</td>\n",
              "    </tr>\n",
              "    <tr>\n",
              "      <th>14</th>\n",
              "      <td>16023</td>\n",
              "      <td>[Neto, Gameiro]</td>\n",
              "      <td>0</td>\n",
              "      <td>2.72E+00</td>\n",
              "      <td>1.07E-04</td>\n",
              "    </tr>\n",
              "    <tr>\n",
              "      <th>15</th>\n",
              "      <td>16023</td>\n",
              "      <td>[Stegen, Vermaelen, Ramos, Díaz]</td>\n",
              "      <td>1</td>\n",
              "      <td>2.63E+00</td>\n",
              "      <td>1.98E-04</td>\n",
              "    </tr>\n",
              "    <tr>\n",
              "      <th>16</th>\n",
              "      <td>16029</td>\n",
              "      <td>[Stegen, Díaz]</td>\n",
              "      <td>0</td>\n",
              "      <td>2.10E+00</td>\n",
              "      <td>9.63E-05</td>\n",
              "    </tr>\n",
              "    <tr>\n",
              "      <th>17</th>\n",
              "      <td>16029</td>\n",
              "      <td>[Vaclík, Silva, Yedder]</td>\n",
              "      <td>1</td>\n",
              "      <td>2.08E+00</td>\n",
              "      <td>9.49E-05</td>\n",
              "    </tr>\n",
              "    <tr>\n",
              "      <th>18</th>\n",
              "      <td>16056</td>\n",
              "      <td>[Stegen, Díaz]</td>\n",
              "      <td>0</td>\n",
              "      <td>2.56E+00</td>\n",
              "      <td>5.65E-05</td>\n",
              "    </tr>\n",
              "    <tr>\n",
              "      <th>19</th>\n",
              "      <td>16056</td>\n",
              "      <td>[Sabata, Rodríguez]</td>\n",
              "      <td>1</td>\n",
              "      <td>2.66E+00</td>\n",
              "      <td>9.73E-05</td>\n",
              "    </tr>\n",
              "    <tr>\n",
              "      <th>20</th>\n",
              "      <td>16073</td>\n",
              "      <td>[Oblak, Costa]</td>\n",
              "      <td>0</td>\n",
              "      <td>2.25E+00</td>\n",
              "      <td>5.53E-05</td>\n",
              "    </tr>\n",
              "    <tr>\n",
              "      <th>21</th>\n",
              "      <td>16073</td>\n",
              "      <td>[Stegen, Umtiti, Ramos, Díaz]</td>\n",
              "      <td>1</td>\n",
              "      <td>2.33E+00</td>\n",
              "      <td>1.96E-04</td>\n",
              "    </tr>\n",
              "    <tr>\n",
              "      <th>22</th>\n",
              "      <td>16079</td>\n",
              "      <td>[Stegen, Semedo, Dembélé, Cuccittini]</td>\n",
              "      <td>0</td>\n",
              "      <td>4.30E+00</td>\n",
              "      <td>1.60E-04</td>\n",
              "    </tr>\n",
              "    <tr>\n",
              "      <th>23</th>\n",
              "      <td>16079</td>\n",
              "      <td>[Andrés, Martínez, Balaguero]</td>\n",
              "      <td>1</td>\n",
              "      <td>4.31E+00</td>\n",
              "      <td>1.71E-04</td>\n",
              "    </tr>\n",
              "    <tr>\n",
              "      <th>24</th>\n",
              "      <td>16086</td>\n",
              "      <td>[Rodríguez, Junqué, Mata, Quintas]</td>\n",
              "      <td>0</td>\n",
              "      <td>2.76E+00</td>\n",
              "      <td>1.96E-04</td>\n",
              "    </tr>\n",
              "    <tr>\n",
              "      <th>25</th>\n",
              "      <td>16086</td>\n",
              "      <td>[Stegen, Semedo, Díaz]</td>\n",
              "      <td>1</td>\n",
              "      <td>2.45E+00</td>\n",
              "      <td>1.89E-04</td>\n",
              "    </tr>\n",
              "    <tr>\n",
              "      <th>26</th>\n",
              "      <td>16095</td>\n",
              "      <td>[Paredes, Nogales, Salgueiro, Boateng]</td>\n",
              "      <td>0</td>\n",
              "      <td>2.22E+00</td>\n",
              "      <td>1.90E-04</td>\n",
              "    </tr>\n",
              "    <tr>\n",
              "      <th>27</th>\n",
              "      <td>16095</td>\n",
              "      <td>[Stegen, Dembélé, Cuccittini]</td>\n",
              "      <td>1</td>\n",
              "      <td>2.25E+00</td>\n",
              "      <td>1.80E-04</td>\n",
              "    </tr>\n",
              "    <tr>\n",
              "      <th>28</th>\n",
              "      <td>16109</td>\n",
              "      <td>[Stegen, Semedo, Rakitić, Díaz]</td>\n",
              "      <td>0</td>\n",
              "      <td>2.64E+00</td>\n",
              "      <td>1.84E-04</td>\n",
              "    </tr>\n",
              "    <tr>\n",
              "      <th>29</th>\n",
              "      <td>16109</td>\n",
              "      <td>[Veiga, González]</td>\n",
              "      <td>1</td>\n",
              "      <td>2.39E+00</td>\n",
              "      <td>1.63E-04</td>\n",
              "    </tr>\n",
              "    <tr>\n",
              "      <th>30</th>\n",
              "      <td>16120</td>\n",
              "      <td>[Solís, Arnaiz]</td>\n",
              "      <td>0</td>\n",
              "      <td>2.59E+00</td>\n",
              "      <td>5.22E-05</td>\n",
              "    </tr>\n",
              "    <tr>\n",
              "      <th>31</th>\n",
              "      <td>16120</td>\n",
              "      <td>[Stegen, Lenglet, Ramos, Díaz]</td>\n",
              "      <td>1</td>\n",
              "      <td>2.58E+00</td>\n",
              "      <td>2.01E-04</td>\n",
              "    </tr>\n",
              "    <tr>\n",
              "      <th>32</th>\n",
              "      <td>16131</td>\n",
              "      <td>[Stegen, Ramos, Díaz]</td>\n",
              "      <td>0</td>\n",
              "      <td>2.51E+00</td>\n",
              "      <td>1.87E-04</td>\n",
              "    </tr>\n",
              "    <tr>\n",
              "      <th>33</th>\n",
              "      <td>16131</td>\n",
              "      <td>[Unamuno, Ametller]</td>\n",
              "      <td>1</td>\n",
              "      <td>2.59E+00</td>\n",
              "      <td>7.56E-05</td>\n",
              "    </tr>\n",
              "    <tr>\n",
              "      <th>34</th>\n",
              "      <td>16136</td>\n",
              "      <td>[Stegen, Ramos, Díaz]</td>\n",
              "      <td>0</td>\n",
              "      <td>2.40E+00</td>\n",
              "      <td>2.00E-04</td>\n",
              "    </tr>\n",
              "    <tr>\n",
              "      <th>35</th>\n",
              "      <td>16136</td>\n",
              "      <td>[Sacristán, Christensen]</td>\n",
              "      <td>1</td>\n",
              "      <td>2.26E+00</td>\n",
              "      <td>7.58E-05</td>\n",
              "    </tr>\n",
              "    <tr>\n",
              "      <th>36</th>\n",
              "      <td>16149</td>\n",
              "      <td>[Bounou, Curbelo]</td>\n",
              "      <td>0</td>\n",
              "      <td>2.34E+00</td>\n",
              "      <td>1.39E-04</td>\n",
              "    </tr>\n",
              "    <tr>\n",
              "      <th>37</th>\n",
              "      <td>16149</td>\n",
              "      <td>[Stegen, Díaz]</td>\n",
              "      <td>1</td>\n",
              "      <td>2.31E+00</td>\n",
              "      <td>5.58E-05</td>\n",
              "    </tr>\n",
              "    <tr>\n",
              "      <th>38</th>\n",
              "      <td>16157</td>\n",
              "      <td>[Stegen, Vermaelen, Carnicer, Díaz]</td>\n",
              "      <td>0</td>\n",
              "      <td>2.54E+00</td>\n",
              "      <td>2.03E-04</td>\n",
              "    </tr>\n",
              "    <tr>\n",
              "      <th>39</th>\n",
              "      <td>16157</td>\n",
              "      <td>[Neto, Gameiro]</td>\n",
              "      <td>1</td>\n",
              "      <td>2.66E+00</td>\n",
              "      <td>1.61E-04</td>\n",
              "    </tr>\n",
              "    <tr>\n",
              "      <th>40</th>\n",
              "      <td>16173</td>\n",
              "      <td>[Buisán, Arthuer]</td>\n",
              "      <td>0</td>\n",
              "      <td>3.73E+00</td>\n",
              "      <td>8.96E-05</td>\n",
              "    </tr>\n",
              "    <tr>\n",
              "      <th>41</th>\n",
              "      <td>16173</td>\n",
              "      <td>[Stegen, Díaz]</td>\n",
              "      <td>1</td>\n",
              "      <td>3.80E+00</td>\n",
              "      <td>1.79E-04</td>\n",
              "    </tr>\n",
              "    <tr>\n",
              "      <th>42</th>\n",
              "      <td>16182</td>\n",
              "      <td>[Stegen, Bernabéu, Carnicer, Boateng]</td>\n",
              "      <td>0</td>\n",
              "      <td>2.64E+00</td>\n",
              "      <td>2.08E-04</td>\n",
              "    </tr>\n",
              "    <tr>\n",
              "      <th>43</th>\n",
              "      <td>16182</td>\n",
              "      <td>[López, Navarro]</td>\n",
              "      <td>1</td>\n",
              "      <td>2.69E+00</td>\n",
              "      <td>1.71E-04</td>\n",
              "    </tr>\n",
              "    <tr>\n",
              "      <th>44</th>\n",
              "      <td>16190</td>\n",
              "      <td>[Vaclík, González, Yedder]</td>\n",
              "      <td>0</td>\n",
              "      <td>3.61E+00</td>\n",
              "      <td>1.10E-04</td>\n",
              "    </tr>\n",
              "    <tr>\n",
              "      <th>45</th>\n",
              "      <td>16190</td>\n",
              "      <td>[Stegen, Bernabéu, Díaz]</td>\n",
              "      <td>1</td>\n",
              "      <td>3.59E+00</td>\n",
              "      <td>3.14E-04</td>\n",
              "    </tr>\n",
              "    <tr>\n",
              "      <th>46</th>\n",
              "      <td>16196</td>\n",
              "      <td>[Courtois, Benzema]</td>\n",
              "      <td>0</td>\n",
              "      <td>2.57E+00</td>\n",
              "      <td>2.15E-04</td>\n",
              "    </tr>\n",
              "    <tr>\n",
              "      <th>47</th>\n",
              "      <td>16196</td>\n",
              "      <td>[Stegen, Díaz]</td>\n",
              "      <td>1</td>\n",
              "      <td>2.57E+00</td>\n",
              "      <td>5.36E-05</td>\n",
              "    </tr>\n",
              "  </tbody>\n",
              "</table>\n",
              "</div>\n",
              "      <button class=\"colab-df-convert\" onclick=\"convertToInteractive('df-006a61ff-477c-4cf9-a948-d06ab8397067')\"\n",
              "              title=\"Convert this dataframe to an interactive table.\"\n",
              "              style=\"display:none;\">\n",
              "        \n",
              "  <svg xmlns=\"http://www.w3.org/2000/svg\" height=\"24px\"viewBox=\"0 0 24 24\"\n",
              "       width=\"24px\">\n",
              "    <path d=\"M0 0h24v24H0V0z\" fill=\"none\"/>\n",
              "    <path d=\"M18.56 5.44l.94 2.06.94-2.06 2.06-.94-2.06-.94-.94-2.06-.94 2.06-2.06.94zm-11 1L8.5 8.5l.94-2.06 2.06-.94-2.06-.94L8.5 2.5l-.94 2.06-2.06.94zm10 10l.94 2.06.94-2.06 2.06-.94-2.06-.94-.94-2.06-.94 2.06-2.06.94z\"/><path d=\"M17.41 7.96l-1.37-1.37c-.4-.4-.92-.59-1.43-.59-.52 0-1.04.2-1.43.59L10.3 9.45l-7.72 7.72c-.78.78-.78 2.05 0 2.83L4 21.41c.39.39.9.59 1.41.59.51 0 1.02-.2 1.41-.59l7.78-7.78 2.81-2.81c.8-.78.8-2.07 0-2.86zM5.41 20L4 18.59l7.72-7.72 1.47 1.35L5.41 20z\"/>\n",
              "  </svg>\n",
              "      </button>\n",
              "      \n",
              "  <style>\n",
              "    .colab-df-container {\n",
              "      display:flex;\n",
              "      flex-wrap:wrap;\n",
              "      gap: 12px;\n",
              "    }\n",
              "\n",
              "    .colab-df-convert {\n",
              "      background-color: #E8F0FE;\n",
              "      border: none;\n",
              "      border-radius: 50%;\n",
              "      cursor: pointer;\n",
              "      display: none;\n",
              "      fill: #1967D2;\n",
              "      height: 32px;\n",
              "      padding: 0 0 0 0;\n",
              "      width: 32px;\n",
              "    }\n",
              "\n",
              "    .colab-df-convert:hover {\n",
              "      background-color: #E2EBFA;\n",
              "      box-shadow: 0px 1px 2px rgba(60, 64, 67, 0.3), 0px 1px 3px 1px rgba(60, 64, 67, 0.15);\n",
              "      fill: #174EA6;\n",
              "    }\n",
              "\n",
              "    [theme=dark] .colab-df-convert {\n",
              "      background-color: #3B4455;\n",
              "      fill: #D2E3FC;\n",
              "    }\n",
              "\n",
              "    [theme=dark] .colab-df-convert:hover {\n",
              "      background-color: #434B5C;\n",
              "      box-shadow: 0px 1px 3px 1px rgba(0, 0, 0, 0.15);\n",
              "      filter: drop-shadow(0px 1px 2px rgba(0, 0, 0, 0.3));\n",
              "      fill: #FFFFFF;\n",
              "    }\n",
              "  </style>\n",
              "\n",
              "      <script>\n",
              "        const buttonEl =\n",
              "          document.querySelector('#df-006a61ff-477c-4cf9-a948-d06ab8397067 button.colab-df-convert');\n",
              "        buttonEl.style.display =\n",
              "          google.colab.kernel.accessAllowed ? 'block' : 'none';\n",
              "\n",
              "        async function convertToInteractive(key) {\n",
              "          const element = document.querySelector('#df-006a61ff-477c-4cf9-a948-d06ab8397067');\n",
              "          const dataTable =\n",
              "            await google.colab.kernel.invokeFunction('convertToInteractive',\n",
              "                                                     [key], {});\n",
              "          if (!dataTable) return;\n",
              "\n",
              "          const docLinkHtml = 'Like what you see? Visit the ' +\n",
              "            '<a target=\"_blank\" href=https://colab.research.google.com/notebooks/data_table.ipynb>data table notebook</a>'\n",
              "            + ' to learn more about interactive tables.';\n",
              "          element.innerHTML = '';\n",
              "          dataTable['output_type'] = 'display_data';\n",
              "          await google.colab.output.renderOutput(dataTable, element);\n",
              "          const docLink = document.createElement('div');\n",
              "          docLink.innerHTML = docLinkHtml;\n",
              "          element.appendChild(docLink);\n",
              "        }\n",
              "      </script>\n",
              "    </div>\n",
              "  </div>\n",
              "  "
            ]
          },
          "metadata": {},
          "execution_count": 55
        }
      ]
    },
    {
      "cell_type": "code",
      "source": [
        "df_resultados_testes.to_latex()"
      ],
      "metadata": {
        "colab": {
          "base_uri": "https://localhost:8080/",
          "height": 109
        },
        "id": "5XX24gLn6EDO",
        "outputId": "2fcf891a-e2ed-4e85-f275-eaf5b68ddc0b"
      },
      "execution_count": null,
      "outputs": [
        {
          "output_type": "execute_result",
          "data": {
            "text/plain": [
              "'\\\\begin{tabular}{lllrrr}\\n\\\\toprule\\n{} & Ids Arquivos de Teste &                              Caminho Mais Curto &  Equipe &  Tempo Total &  Tempo Dijkstra \\\\\\\\\\n\\\\midrule\\n0  &                 15946 &        [Stegen, Bernabéu, Carnicer, Cuccittini] &       0 &     1.93E+00 &        1.80E-04 \\\\\\\\\\n1  &                 15946 &                      [Flores, Sánchez, Pozuelo] &       1 &     2.95E+00 &        1.02E-04 \\\\\\\\\\n2  &                 15956 &                                [López, Pedreño] &       0 &     2.50E+00 &        9.42E-05 \\\\\\\\\\n3  &                 15956 &  [Stegen, Bernabéu, Carnicer, Cuccittini, Díaz] &       1 &     2.50E+00 &        2.11E-04 \\\\\\\\\\n4  &                 15973 &              [Stegen, Bernabéu, Carnicer, Díaz] &       0 &     3.78E+00 &        2.01E-04 \\\\\\\\\\n5  &                 15973 &                                 [Werner, Longo] &       1 &     4.19E+00 &        7.72E-05 \\\\\\\\\\n6  &                 15978 &                                  [Rulli, López] &       0 &     2.58E+00 &        9.49E-05 \\\\\\\\\\n7  &                 15978 &                           [Stegen, Ramos, Díaz] &       1 &     2.50E+00 &        2.03E-04 \\\\\\\\\\n8  &                 15986 &                        [Stegen, Bernabéu, Díaz] &       0 &     2.97E+00 &        1.74E-04 \\\\\\\\\\n9  &                 15986 &                        [Bounou, López, Curbelo] &       1 &     2.78E+00 &        8.99E-05 \\\\\\\\\\n10 &                 15998 &                          [Sacristán, En-Nesyri] &       0 &     2.27E+00 &        6.32E-05 \\\\\\\\\\n11 &                 15998 &           [Stegen, Bernabéu, Carnicer, Mohamed] &       1 &     2.25E+00 &        2.03E-04 \\\\\\\\\\n12 &                 16010 &                         [Stegen, Rakitić, Díaz] &       0 &     2.12E+00 &        2.31E-04 \\\\\\\\\\n13 &                 16010 &                   [Mendibil, Escudero, Arthuer] &       1 &     2.27E+00 &        8.65E-05 \\\\\\\\\\n14 &                 16023 &                                 [Neto, Gameiro] &       0 &     2.72E+00 &        1.07E-04 \\\\\\\\\\n15 &                 16023 &                [Stegen, Vermaelen, Ramos, Díaz] &       1 &     2.63E+00 &        1.98E-04 \\\\\\\\\\n16 &                 16029 &                                  [Stegen, Díaz] &       0 &     2.10E+00 &        9.63E-05 \\\\\\\\\\n17 &                 16029 &                         [Vaclík, Silva, Yedder] &       1 &     2.08E+00 &        9.49E-05 \\\\\\\\\\n18 &                 16056 &                                  [Stegen, Díaz] &       0 &     2.56E+00 &        5.65E-05 \\\\\\\\\\n19 &                 16056 &                             [Sabata, Rodríguez] &       1 &     2.66E+00 &        9.73E-05 \\\\\\\\\\n20 &                 16073 &                                  [Oblak, Costa] &       0 &     2.25E+00 &        5.53E-05 \\\\\\\\\\n21 &                 16073 &                   [Stegen, Umtiti, Ramos, Díaz] &       1 &     2.33E+00 &        1.96E-04 \\\\\\\\\\n22 &                 16079 &           [Stegen, Semedo, Dembélé, Cuccittini] &       0 &     4.30E+00 &        1.60E-04 \\\\\\\\\\n23 &                 16079 &                   [Andrés, Martínez, Balaguero] &       1 &     4.31E+00 &        1.71E-04 \\\\\\\\\\n24 &                 16086 &              [Rodríguez, Junqué, Mata, Quintas] &       0 &     2.76E+00 &        1.96E-04 \\\\\\\\\\n25 &                 16086 &                          [Stegen, Semedo, Díaz] &       1 &     2.45E+00 &        1.89E-04 \\\\\\\\\\n26 &                 16095 &          [Paredes, Nogales, Salgueiro, Boateng] &       0 &     2.22E+00 &        1.90E-04 \\\\\\\\\\n27 &                 16095 &                   [Stegen, Dembélé, Cuccittini] &       1 &     2.25E+00 &        1.80E-04 \\\\\\\\\\n28 &                 16109 &                 [Stegen, Semedo, Rakitić, Díaz] &       0 &     2.64E+00 &        1.84E-04 \\\\\\\\\\n29 &                 16109 &                               [Veiga, González] &       1 &     2.39E+00 &        1.63E-04 \\\\\\\\\\n30 &                 16120 &                                 [Solís, Arnaiz] &       0 &     2.59E+00 &        5.22E-05 \\\\\\\\\\n31 &                 16120 &                  [Stegen, Lenglet, Ramos, Díaz] &       1 &     2.58E+00 &        2.01E-04 \\\\\\\\\\n32 &                 16131 &                           [Stegen, Ramos, Díaz] &       0 &     2.51E+00 &        1.87E-04 \\\\\\\\\\n33 &                 16131 &                             [Unamuno, Ametller] &       1 &     2.59E+00 &        7.56E-05 \\\\\\\\\\n34 &                 16136 &                           [Stegen, Ramos, Díaz] &       0 &     2.40E+00 &        2.00E-04 \\\\\\\\\\n35 &                 16136 &                        [Sacristán, Christensen] &       1 &     2.26E+00 &        7.58E-05 \\\\\\\\\\n36 &                 16149 &                               [Bounou, Curbelo] &       0 &     2.34E+00 &        1.39E-04 \\\\\\\\\\n37 &                 16149 &                                  [Stegen, Díaz] &       1 &     2.31E+00 &        5.58E-05 \\\\\\\\\\n38 &                 16157 &             [Stegen, Vermaelen, Carnicer, Díaz] &       0 &     2.54E+00 &        2.03E-04 \\\\\\\\\\n39 &                 16157 &                                 [Neto, Gameiro] &       1 &     2.66E+00 &        1.61E-04 \\\\\\\\\\n40 &                 16173 &                               [Buisán, Arthuer] &       0 &     3.73E+00 &        8.96E-05 \\\\\\\\\\n41 &                 16173 &                                  [Stegen, Díaz] &       1 &     3.80E+00 &        1.79E-04 \\\\\\\\\\n42 &                 16182 &           [Stegen, Bernabéu, Carnicer, Boateng] &       0 &     2.64E+00 &        2.08E-04 \\\\\\\\\\n43 &                 16182 &                                [López, Navarro] &       1 &     2.69E+00 &        1.71E-04 \\\\\\\\\\n44 &                 16190 &                      [Vaclík, González, Yedder] &       0 &     3.61E+00 &        1.10E-04 \\\\\\\\\\n45 &                 16190 &                        [Stegen, Bernabéu, Díaz] &       1 &     3.59E+00 &        3.14E-04 \\\\\\\\\\n46 &                 16196 &                             [Courtois, Benzema] &       0 &     2.57E+00 &        2.15E-04 \\\\\\\\\\n47 &                 16196 &                                  [Stegen, Díaz] &       1 &     2.57E+00 &        5.36E-05 \\\\\\\\\\n\\\\bottomrule\\n\\\\end{tabular}\\n'"
            ],
            "application/vnd.google.colaboratory.intrinsic+json": {
              "type": "string"
            }
          },
          "metadata": {},
          "execution_count": 56
        }
      ]
    },
    {
      "cell_type": "code",
      "source": [
        "df_resultados_testes['Tempo Dijkstra'].mean()"
      ],
      "metadata": {
        "colab": {
          "base_uri": "https://localhost:8080/"
        },
        "id": "t55ctfKt8q0h",
        "outputId": "e945d2a9-9c57-4a57-9748-c818e02d86dc"
      },
      "execution_count": null,
      "outputs": [
        {
          "output_type": "execute_result",
          "data": {
            "text/plain": [
              "0.00014664232730865479"
            ]
          },
          "metadata": {},
          "execution_count": 57
        }
      ]
    },
    {
      "cell_type": "code",
      "source": [
        "df_resultados_testes['Tempo Dijkstra'].std()"
      ],
      "metadata": {
        "colab": {
          "base_uri": "https://localhost:8080/"
        },
        "id": "G9gyPh4e_k3z",
        "outputId": "873b086b-43fd-4fd2-984d-bd17175ac8b7"
      },
      "execution_count": null,
      "outputs": [
        {
          "output_type": "execute_result",
          "data": {
            "text/plain": [
              "6.165401168328971e-05"
            ]
          },
          "metadata": {},
          "execution_count": 59
        }
      ]
    },
    {
      "cell_type": "code",
      "source": [
        "df_resultados_testes['Tempo Total'].mean()"
      ],
      "metadata": {
        "colab": {
          "base_uri": "https://localhost:8080/"
        },
        "id": "jKboebff88k4",
        "outputId": "e4975c5a-d879-494c-afc1-e05ae2d48905"
      },
      "execution_count": null,
      "outputs": [
        {
          "output_type": "execute_result",
          "data": {
            "text/plain": [
              "2.7132720947265625"
            ]
          },
          "metadata": {},
          "execution_count": 58
        }
      ]
    }
  ]
}